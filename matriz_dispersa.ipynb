{
  "nbformat": 4,
  "nbformat_minor": 0,
  "metadata": {
    "colab": {
      "provenance": [],
      "include_colab_link": true
    },
    "kernelspec": {
      "name": "python3",
      "display_name": "Python 3"
    },
    "language_info": {
      "name": "python"
    }
  },
  "cells": [
    {
      "cell_type": "markdown",
      "metadata": {
        "id": "view-in-github",
        "colab_type": "text"
      },
      "source": [
        "<a href=\"https://colab.research.google.com/github/yelsinhc2025/PROGRANACION-102/blob/main/matriz_dispersa.ipynb\" target=\"_parent\"><img src=\"https://colab.research.google.com/assets/colab-badge.svg\" alt=\"Open In Colab\"/></a>"
      ]
    },
    {
      "cell_type": "markdown",
      "source": [
        "# Matriz Dispersa"
      ],
      "metadata": {
        "id": "Oyqcu8VgKpb4"
      }
    },
    {
      "cell_type": "markdown",
      "source": [
        "## 1. Definición\n",
        "Una **matriz dispersa** es una matriz en la que la mayoría de sus elementos son cero.  \n",
        "En lugar de almacenar todos los elementos (incluyendo los ceros), se utilizan estructuras de datos que solo guardan los elementos distintos de cero junto con sus posiciones.\n",
        "\n",
        "**Ejemplo de matriz densa (con muchos ceros):**\n",
        "\n",
        "$$\n",
        "A = \\begin{bmatrix}\n",
        "0 & 0 & 3 \\\\\n",
        "0 & 0 & 0 \\\\\n",
        "4 & 0 & 0 \\\\\n",
        "\\end{bmatrix}\n",
        "$$\n",
        "\n",
        "En este caso, almacenar todos los elementos es ineficiente. En cambio, usamos representaciones dispersas.\n"
      ],
      "metadata": {
        "id": "hmltGEkdKr1x"
      }
    },
    {
      "cell_type": "markdown",
      "source": [
        "## 2. Representaciones dispersas de A\n",
        "\n",
        "Usaremos **indexado base 0** (estilo SciPy) para las coordenadas `(fila, columna)`.\n",
        "\n",
        "Matriz densa:\n",
        "$$\n",
        "A=\\begin{bmatrix}\n",
        "0 & 0 & 3\\\\\n",
        "0 & 0 & 0\\\\\n",
        "4 & 0 & 0\n",
        "\\end{bmatrix}\n",
        "$$\n",
        "Elementos ≠ 0: \\((0,2)=3\\) y \\((2,0)=4\\).\n",
        "\n",
        "---\n",
        "\n",
        "## (1) COO — *Coordinate list*\n",
        "Guarda listas paralelas `row`, `col`, `data` para cada elemento no-cero.\n",
        "\n",
        "- `row = [0, 2]`  \n",
        "- `col = [2, 0]`  \n",
        "- `data = [3, 4]`  \n",
        "- `shape = (3, 3)`\n",
        "\n",
        "---\n",
        "\n",
        "## (2) DOK — *Dictionary of Keys*\n",
        "Diccionario cuyas claves son coordenadas y valores son los no-ceros.\n",
        "\n",
        "- `data = { (0, 2): 3, (2, 0): 4 }`  \n",
        "- `shape = (3, 3)`\n",
        "\n",
        "---\n",
        "\n",
        "## (3) LIL — *List of Lists*\n",
        "Para cada fila, una lista de pares `(columna, valor)`.\n",
        "\n",
        "- Fila 0 → `[(2, 3)]`  \n",
        "- Fila 1 → `[]`  \n",
        "- Fila 2 → `[(0, 4)]`  \n",
        "- `shape = (3, 3)`\n",
        "\n",
        "(Equivalente como estructura: `rows = [[(2,3)], [], [(0,4)]]`)\n",
        "\n",
        "---\n",
        "\n",
        "## (4) CSR — *Compressed Sparse Row*\n",
        "Tres arreglos: `data` (valores), `indices` (columnas), `indptr` (punteros por fila).\n",
        "\n",
        "- Recorrido por filas (columnas ordenadas dentro de cada fila):\n",
        "  - Fila 0: col `2` → valor `3`  \n",
        "  - Fila 1: —  \n",
        "  - Fila 2: col `0` → valor `4`\n",
        "\n",
        "Arreglos:\n",
        "- `data   = [3, 4]`            ← valores no-cero en orden por filas  \n",
        "- `indices= [2, 0]`            ← columnas correspondientes  \n",
        "- `indptr = [0, 1, 1, 2]`      ← inicios de fila en `data/indices`  \n",
        "  - (Fila 0: `data[0:1]`, Fila 1: `data[1:1]` vacío, Fila 2: `data[1:2]`)  \n",
        "- `shape  = (3, 3)`\n"
      ],
      "metadata": {
        "id": "2YqN45cwLHVy"
      }
    },
    {
      "cell_type": "markdown",
      "source": [
        "## 3. Usando Scipy\n",
        "\n",
        "### 3.1. COO — Coordinate list"
      ],
      "metadata": {
        "id": "iN2nfoGQMu7l"
      }
    },
    {
      "cell_type": "code",
      "execution_count": null,
      "metadata": {
        "colab": {
          "base_uri": "https://localhost:8080/"
        },
        "id": "_ou0QolcKQoO",
        "outputId": "bde5bfda-505e-4d8b-f4b1-ad0709d6b804"
      },
      "outputs": [
        {
          "output_type": "stream",
          "name": "stdout",
          "text": [
            "data: [3 4]\n",
            "row: [0 2]\n",
            "col: [2 0]\n"
          ]
        }
      ],
      "source": [
        "from scipy.sparse import coo_matrix\n",
        "import numpy as np\n",
        "\n",
        "A_dense = np.array([\n",
        "    [0, 0, 3],\n",
        "    [0, 0, 0],\n",
        "    [4, 0, 0]\n",
        "])\n",
        "\n",
        "A_coo = coo_matrix(A_dense)\n",
        "print(\"data:\", A_coo.data)     # [3 4]\n",
        "print(\"row:\", A_coo.row)       # [0 2]\n",
        "print(\"col:\", A_coo.col)       # [2 0]"
      ]
    },
    {
      "cell_type": "markdown",
      "source": [
        "### 3.2. DOK — Dictionary of Keys"
      ],
      "metadata": {
        "id": "RNjGym-7NGjt"
      }
    },
    {
      "cell_type": "code",
      "source": [
        "from scipy.sparse import dok_matrix\n",
        "\n",
        "A_dok = dok_matrix(A_dense)\n",
        "print(dict(A_dok))  # {(0, 2): 3, (2, 0): 4}\n"
      ],
      "metadata": {
        "colab": {
          "base_uri": "https://localhost:8080/"
        },
        "id": "4GbZ9vgjNC30",
        "outputId": "f1f939c9-9167-4103-8fa7-c67f7298e1bd"
      },
      "execution_count": null,
      "outputs": [
        {
          "output_type": "stream",
          "name": "stdout",
          "text": [
            "{(np.int32(0), np.int32(2)): np.int64(3), (np.int32(2), np.int32(0)): np.int64(4)}\n"
          ]
        }
      ]
    },
    {
      "cell_type": "markdown",
      "source": [
        "### 3.3. LIL — List of Lists"
      ],
      "metadata": {
        "id": "XpDYHq8oNM1v"
      }
    },
    {
      "cell_type": "code",
      "source": [
        "from scipy.sparse import lil_matrix\n",
        "\n",
        "A_lil = lil_matrix(A_dense)\n",
        "print(A_lil.rows)  # [[2], [], [0]]\n",
        "print(A_lil.data)  # [[3], [], [4]]\n"
      ],
      "metadata": {
        "colab": {
          "base_uri": "https://localhost:8080/"
        },
        "id": "zSvYxiEENKzR",
        "outputId": "e01e8afe-8d66-442c-a252-26603e83c705"
      },
      "execution_count": null,
      "outputs": [
        {
          "output_type": "stream",
          "name": "stdout",
          "text": [
            "[list([2]) list([]) list([0])]\n",
            "[list([3]) list([]) list([4])]\n"
          ]
        }
      ]
    },
    {
      "cell_type": "markdown",
      "source": [
        "### 3.4. CSR — Compressed Sparse Row"
      ],
      "metadata": {
        "id": "KNTBMfjsNQxT"
      }
    },
    {
      "cell_type": "code",
      "source": [
        "from scipy.sparse import csr_matrix\n",
        "\n",
        "A_csr = csr_matrix(A_dense)\n",
        "print(\"data:   \", A_csr.data)     # [3 4]\n",
        "print(\"indices:\", A_csr.indices)  # [2 0]\n",
        "print(\"indptr: \", A_csr.indptr)   # [0 1 1 2]\n"
      ],
      "metadata": {
        "colab": {
          "base_uri": "https://localhost:8080/"
        },
        "id": "bidbiIOdNO9K",
        "outputId": "31e1c15a-91b7-4e4a-9cae-a641fcff2ed3"
      },
      "execution_count": null,
      "outputs": [
        {
          "output_type": "stream",
          "name": "stdout",
          "text": [
            "data:    [3 4]\n",
            "indices: [2 0]\n",
            "indptr:  [0 1 1 2]\n"
          ]
        }
      ]
    },
    {
      "cell_type": "markdown",
      "source": [
        "# Comparación de formatos de matrices dispersas en SciPy\n",
        "\n",
        "| Formato | Estructura interna | Ventajas principales | Desventajas | Casos de uso típicos |\n",
        "|---------|-------------------|----------------------|-------------|-----------------------|\n",
        "| **COO** (Coordinate List) | Tres arrays: `row`, `col`, `data` | Muy simple, fácil de construir; eficiente para ensamblaje inicial | No eficiente para operaciones repetitivas (suma, multiplicación); no permite indexado rápido | Construcción inicial de matrices dispersas antes de convertir a otro formato |\n",
        "| **DOK** (Dictionary of Keys) | Diccionario: `(fila, col) → valor` | Fácil de modificar e insertar elementos; intuitivo | Operaciones algebraicas lentas; ocupa más memoria por overhead de diccionario | Construcción incremental, edición de elementos individuales |\n",
        "| **LIL** (List of Lists) | Cada fila tiene listas de `col` y `data` | Fácil de modificar por filas; eficiente en asignación de filas completas | No eficiente para operaciones matriciales globales | Construcción de matrices fila por fila antes de conversión a CSR/CSC |\n",
        "| **CSR** (Compressed Sparse Row) | Tres arrays: `data`, `indices`, `indptr` | Muy eficiente para operaciones algebraicas (multiplicar por vector, slicing por filas) | Difícil de modificar (inserciones son costosas) | Computación numérica, Machine Learning, álgebra lineal dispersa |\n"
      ],
      "metadata": {
        "id": "Eh9Rw62-Nmk8"
      }
    },
    {
      "cell_type": "markdown",
      "source": [
        "## 4. Comparación de tamaños\n",
        "\n"
      ],
      "metadata": {
        "id": "vuDyBIjrPTGo"
      }
    },
    {
      "cell_type": "code",
      "source": [
        "import numpy as np\n",
        "from scipy.sparse import csr_matrix\n",
        "\n",
        "# Creamos una matriz grande 1000x1000 con pocos valores distintos de cero\n",
        "np.random.seed(42)\n",
        "A_dense = np.zeros((1000, 1000), dtype=np.float32)\n",
        "\n",
        "# Insertamos solo 1% de valores distintos de cero\n",
        "num_nonzeros = int(0.01 * A_dense.size)\n",
        "rows = np.random.randint(0, A_dense.shape[0], num_nonzeros)\n",
        "cols = np.random.randint(0, A_dense.shape[1], num_nonzeros)\n",
        "A_dense[rows, cols] = np.random.rand(num_nonzeros)\n",
        "\n",
        "# Convertir a formato disperso CSR\n",
        "A_sparse = csr_matrix(A_dense)\n"
      ],
      "metadata": {
        "id": "gDywfrtwPVGH"
      },
      "execution_count": null,
      "outputs": []
    },
    {
      "cell_type": "code",
      "source": [
        "import sys\n",
        "\n",
        "# Función auxiliar para calcular memoria aproximada\n",
        "def get_size(obj, name=\"obj\"):\n",
        "    size = sys.getsizeof(obj)\n",
        "    print(f\"{name} ocupa aproximadamente {size/1024:.2f} KB\")\n",
        "\n",
        "print(\"Tamaño aproximado de objetos:\")\n",
        "get_size(A_dense, \"Matriz densa (NumPy)\")\n",
        "get_size(A_sparse, \"Matriz dispersa (CSR)\")\n"
      ],
      "metadata": {
        "colab": {
          "base_uri": "https://localhost:8080/"
        },
        "id": "4vLYXobBPW3d",
        "outputId": "ea7e584c-7253-4863-ca69-91d5085d9f1d"
      },
      "execution_count": null,
      "outputs": [
        {
          "output_type": "stream",
          "name": "stdout",
          "text": [
            "Tamaño aproximado de objetos:\n",
            "Matriz densa (NumPy) ocupa aproximadamente 3906.38 KB\n",
            "Matriz dispersa (CSR) ocupa aproximadamente 0.05 KB\n"
          ]
        }
      ]
    },
    {
      "cell_type": "markdown",
      "source": [
        "## 5. Bag-of-Words para clasificación de textos\n",
        "\n",
        "Corpus de documentos:"
      ],
      "metadata": {
        "id": "duAycNDZOjLf"
      }
    },
    {
      "cell_type": "code",
      "source": [
        "docs = [\n",
        "    \"oferta para el nuevo iPhone\", #spam\n",
        "    \"nueva tarea del curso de Algoritmos y Estructuras de Datos\", #no\n",
        "    \"visita la biblioteca de la universidad\",#no\n",
        "    \"no te pierdas la oferta de viaje a Europa\", #spam\n",
        "    \"anuncio de la universidad del curso de Algoritmos y Estructuras de Datos\",#no\n",
        "    \"nueva oferta para el curso de algoritmos para fotografía y datos\", #spam\n",
        "]\n",
        "y = [1,0,0,1,0,1]  # etiquetas (ejemplo)\n"
      ],
      "metadata": {
        "id": "pu0lVlAxPFAH"
      },
      "execution_count": null,
      "outputs": []
    },
    {
      "cell_type": "code",
      "source": [
        "from sklearn.feature_extraction.text import CountVectorizer\n",
        "from sklearn.model_selection import train_test_split\n",
        "from sklearn.naive_bayes import MultinomialNB\n",
        "from sklearn.pipeline import Pipeline\n",
        "from sklearn.metrics import classification_report, accuracy_score\n",
        "\n",
        "pipe = Pipeline([\n",
        "    (\"bow\", CountVectorizer(lowercase=True, analyzer=\"word\")),  # genera una CSR\n",
        "    (\"clf\", MultinomialNB()),                                   # usa directamente la matriz dispersa\n",
        "])\n",
        "\n",
        "X_train, X_test, y_train, y_test = train_test_split(docs, y, test_size=0.2, random_state=42, stratify=y)\n",
        "pipe.fit(X_train, y_train)\n",
        "y_pred = pipe.predict(X_test)\n",
        "\n",
        "print(\"Accuracy:\", accuracy_score(y_test, y_pred))\n",
        "print(classification_report(y_test, y_pred))\n"
      ],
      "metadata": {
        "colab": {
          "base_uri": "https://localhost:8080/"
        },
        "id": "PFVmdSqNQbxN",
        "outputId": "eea5cbc5-4687-42c7-cd95-8fb8a171b08f"
      },
      "execution_count": null,
      "outputs": [
        {
          "output_type": "stream",
          "name": "stdout",
          "text": [
            "Accuracy: 1.0\n",
            "              precision    recall  f1-score   support\n",
            "\n",
            "           0       1.00      1.00      1.00         1\n",
            "           1       1.00      1.00      1.00         1\n",
            "\n",
            "    accuracy                           1.00         2\n",
            "   macro avg       1.00      1.00      1.00         2\n",
            "weighted avg       1.00      1.00      1.00         2\n",
            "\n"
          ]
        }
      ]
    },
    {
      "cell_type": "code",
      "source": [
        "X_train"
      ],
      "metadata": {
        "colab": {
          "base_uri": "https://localhost:8080/"
        },
        "id": "m20wKFGIfGG5",
        "outputId": "0e9439f5-06ca-4d4e-dd6c-4021fcc169cf"
      },
      "execution_count": null,
      "outputs": [
        {
          "output_type": "execute_result",
          "data": {
            "text/plain": [
              "['visita la biblioteca de la universidad',\n",
              " 'nueva oferta para el curso de algoritmos para fotografía y datos',\n",
              " 'nueva tarea del curso de Algoritmos y Estructuras de Datos',\n",
              " 'no te pierdas la oferta de viaje a Europa']"
            ]
          },
          "metadata": {},
          "execution_count": 39
        }
      ]
    },
    {
      "cell_type": "code",
      "source": [
        "vectorizer=CountVectorizer(lowercase=True, analyzer=\"word\")\n",
        "x = vectorizer.fit_transform(X_train)\n",
        "df = pd.DataFrame(\n",
        "    x.toarray(),\n",
        "    columns=vectorizer.get_feature_names_out()\n",
        ")\n",
        "\n",
        "print(df)"
      ],
      "metadata": {
        "colab": {
          "base_uri": "https://localhost:8080/"
        },
        "id": "SRSvXK3AfVlU",
        "outputId": "11b0ba8c-2040-4e14-e380-1b4dc6c21bcd"
      },
      "execution_count": null,
      "outputs": [
        {
          "output_type": "stream",
          "name": "stdout",
          "text": [
            "   algoritmos  biblioteca  curso  datos  de  del  el  estructuras  europa  \\\n",
            "0           0           1      0      0   1    0   0            0       0   \n",
            "1           1           0      1      1   1    0   1            0       0   \n",
            "2           1           0      1      1   2    1   0            1       0   \n",
            "3           0           0      0      0   1    0   0            0       1   \n",
            "\n",
            "   fotografía  ...  no  nueva  oferta  para  pierdas  tarea  te  universidad  \\\n",
            "0           0  ...   0      0       0     0        0      0   0            1   \n",
            "1           1  ...   0      1       1     2        0      0   0            0   \n",
            "2           0  ...   0      1       0     0        0      1   0            0   \n",
            "3           0  ...   1      0       1     0        1      0   1            0   \n",
            "\n",
            "   viaje  visita  \n",
            "0      0       1  \n",
            "1      0       0  \n",
            "2      0       0  \n",
            "3      1       0  \n",
            "\n",
            "[4 rows x 21 columns]\n"
          ]
        }
      ]
    },
    {
      "cell_type": "code",
      "source": [
        "X_train"
      ],
      "metadata": {
        "id": "y__hOhmhgIRH",
        "outputId": "13bdd4c7-2e27-48a0-997e-cd08472afb6a",
        "colab": {
          "base_uri": "https://localhost:8080/"
        }
      },
      "execution_count": null,
      "outputs": [
        {
          "output_type": "execute_result",
          "data": {
            "text/plain": [
              "['visita la biblioteca de la universidad',\n",
              " 'nueva oferta para el curso de algoritmos para fotografía y datos',\n",
              " 'nueva tarea del curso de Algoritmos y Estructuras de Datos',\n",
              " 'no te pierdas la oferta de viaje a Europa']"
            ]
          },
          "metadata": {},
          "execution_count": 44
        }
      ]
    },
    {
      "cell_type": "markdown",
      "source": [
        "## 6. Modelos de Grafos Causales para Machine Learning"
      ],
      "metadata": {
        "id": "z8L5KOmsQ3qd"
      }
    },
    {
      "cell_type": "code",
      "source": [
        "!pip install inteligenciartificial"
      ],
      "metadata": {
        "colab": {
          "base_uri": "https://localhost:8080/"
        },
        "id": "b8h_puuYQf0m",
        "outputId": "f36e3cee-038a-44ce-c126-c646a773e528"
      },
      "execution_count": null,
      "outputs": [
        {
          "output_type": "stream",
          "name": "stdout",
          "text": [
            "Collecting inteligenciartificial\n",
            "  Downloading inteligenciartificial-0.0.3-py3-none-any.whl.metadata (471 bytes)\n",
            "Requirement already satisfied: numpy>=1.23 in /usr/local/lib/python3.12/dist-packages (from inteligenciartificial) (2.0.2)\n",
            "Requirement already satisfied: pandas>=1.5 in /usr/local/lib/python3.12/dist-packages (from inteligenciartificial) (2.2.2)\n",
            "Requirement already satisfied: python-dateutil>=2.8.2 in /usr/local/lib/python3.12/dist-packages (from pandas>=1.5->inteligenciartificial) (2.9.0.post0)\n",
            "Requirement already satisfied: pytz>=2020.1 in /usr/local/lib/python3.12/dist-packages (from pandas>=1.5->inteligenciartificial) (2025.2)\n",
            "Requirement already satisfied: tzdata>=2022.7 in /usr/local/lib/python3.12/dist-packages (from pandas>=1.5->inteligenciartificial) (2025.2)\n",
            "Requirement already satisfied: six>=1.5 in /usr/local/lib/python3.12/dist-packages (from python-dateutil>=2.8.2->pandas>=1.5->inteligenciartificial) (1.17.0)\n",
            "Downloading inteligenciartificial-0.0.3-py3-none-any.whl (11 kB)\n",
            "Installing collected packages: inteligenciartificial\n",
            "Successfully installed inteligenciartificial-0.0.3\n"
          ]
        }
      ]
    },
    {
      "cell_type": "code",
      "source": [
        "from inteligenciartificial.modelografosprobabilisticos import NaiveBayes\n",
        "from inteligenciartificial.modelografosprobabilisticos import RedBayesiana\n",
        "from inteligenciartificial.modelografosprobabilisticos.busqueda import K2\n",
        "from inteligenciartificial.modelografosprobabilisticos import Grafo\n",
        "from inteligenciartificial.modelografosprobabilisticos import DistribucionDiscreta\n",
        "from inteligenciartificial.modelografosprobabilisticos.metricas import Entropia, BIC\n",
        "from inteligenciartificial.modelografosprobabilisticos.utils import accuracy_score\n",
        "import pandas as pd\n",
        "\n",
        "# Lectura de dataset\n",
        "df_train = pd.read_csv(\"weather.nominal_train.csv\")\n",
        "df_test = pd.read_csv(\"weather.nominal_test.csv\")\n",
        "\n",
        "y_train = df_train[\"play\"]\n",
        "X_train = df_train.drop(columns=[\"play\"])\n",
        "\n",
        "y_test = df_test[\"play\"]\n",
        "X_test = df_test.drop(columns=[\"play\"])\n",
        "\n",
        "# Agregamos las aristas a nuestro grafo\n",
        "g = Grafo([(\"outlook\", \"play\"), (\"windy\", \"play\"), (\"temperature\", \"play\"), (\"humidity\", \"play\")])\n",
        "\n",
        "# Creamos otra red bayesiana ad-hoc\n",
        "rb2 = RedBayesiana(g)\n",
        "rb2.fit(X_train, y_train) #Entrenamiento\n",
        "dPlay2 = rb2.getDistribucion(\"play\")\n",
        "print(\"Distribucion de Play es: \", dPlay2)\n",
        "dWindy2 = rb2.getDistribucion(\"windy\")\n",
        "print(\"Distribucion de Windy es: \", dWindy2)\n",
        "\n",
        "#Predicción\n",
        "y_pred2 = rb2.predict(X_test)\n",
        "acc2 = accuracy_score(y_test, y_pred2)\n",
        "print(\"Accuracy de RB2 es: \", acc2)\n"
      ],
      "metadata": {
        "colab": {
          "base_uri": "https://localhost:8080/"
        },
        "id": "9Qwd0AmuQ7ft",
        "outputId": "32317c41-d756-4b46-c532-913f87e9902c"
      },
      "execution_count": null,
      "outputs": [
        {
          "output_type": "stream",
          "name": "stdout",
          "text": [
            "Distribucion de Play es:  P(play | humidity,outlook,temperature,windy) con 72 entradas\n",
            "Distribucion de Windy es:  P(windy)={False: np.float64(0.5), True: np.float64(0.5)}\n",
            "Accuracy de RB2 es:  0.5\n"
          ]
        }
      ]
    },
    {
      "cell_type": "code",
      "source": [],
      "metadata": {
        "id": "dVUzcRV2SMqd"
      },
      "execution_count": null,
      "outputs": []
    }
  ]
}