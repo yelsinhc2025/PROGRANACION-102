{
  "nbformat": 4,
  "nbformat_minor": 0,
  "metadata": {
    "colab": {
      "provenance": [],
      "include_colab_link": true
    },
    "kernelspec": {
      "name": "python3",
      "display_name": "Python 3"
    },
    "language_info": {
      "name": "python"
    }
  },
  "cells": [
    {
      "cell_type": "markdown",
      "metadata": {
        "id": "view-in-github",
        "colab_type": "text"
      },
      "source": [
        "<a href=\"https://colab.research.google.com/github/yelsinhc2025/PROGRANACION-102/blob/main/1_hill_climbing.ipynb\" target=\"_parent\"><img src=\"https://colab.research.google.com/assets/colab-badge.svg\" alt=\"Open In Colab\"/></a>"
      ]
    },
    {
      "cell_type": "markdown",
      "source": [
        "#Hill climbing search"
      ],
      "metadata": {
        "id": "l53KCHGbTxwM"
      }
    },
    {
      "cell_type": "markdown",
      "source": [
        "![](https://drive.google.com/uc?export=view&id=1IlgFVvt98JrqeC7A1eracheX7oUHBx0E)"
      ],
      "metadata": {
        "id": "FcVmwFu6TvxI"
      }
    },
    {
      "cell_type": "code",
      "execution_count": null,
      "metadata": {
        "id": "awp6eqnKGZ7L",
        "colab": {
          "base_uri": "https://localhost:8080/"
        },
        "outputId": "ba866cd1-50b4-4a66-8564-acaa33665e3a"
      },
      "outputs": [
        {
          "output_type": "stream",
          "name": "stdout",
          "text": [
            "[0 1 3 2]\n"
          ]
        }
      ],
      "source": [
        "import numpy as np\n",
        "\n",
        "TSP = [\n",
        "    [0,   200,     600,       100 ],\n",
        "    [200,  0,      300,       100 ],\n",
        "    [600,  300,    0,         400 ],\n",
        "    [100,  100,    400,       0]\n",
        "]\n",
        "\n",
        "\n",
        "# step 1  # solution aleatoria\n",
        "current_solution = np.array([0, 1, 2, 3])\n",
        "np.random.shuffle(current_solution)\n",
        "\n",
        "print(current_solution)"
      ]
    },
    {
      "cell_type": "code",
      "source": [
        "def fitness(sol): # depende del problema\n",
        "  distance = 0\n",
        "  for i in range(len(sol)-1):\n",
        "    distance += TSP[sol[i]][sol[i+1]]\n",
        "  return distance\n",
        "\n",
        "print(fitness(current_solution))\n",
        "\n",
        "def get_neighbors(sol):\n",
        "  neighbors = []\n",
        "  for i in range(len(sol) - 1):\n",
        "    for j in range(i + 1, len(sol)):\n",
        "      new_sol = sol.copy()\n",
        "      new_sol[i], new_sol[j] = new_sol[j], new_sol[i]\n",
        "      neighbors.append(new_sol)\n",
        "\n",
        "  return neighbors\n",
        "\n",
        "print(get_neighbors(current_solution))"
      ],
      "metadata": {
        "colab": {
          "base_uri": "https://localhost:8080/"
        },
        "id": "QXIeG2g8EHep",
        "outputId": "ecd549bf-de7b-4521-db7b-fec91daa5371"
      },
      "execution_count": null,
      "outputs": [
        {
          "output_type": "stream",
          "name": "stdout",
          "text": [
            "700\n",
            "[array([1, 0, 3, 2]), array([3, 1, 0, 2]), array([2, 1, 3, 0]), array([0, 3, 1, 2]), array([0, 2, 3, 1]), array([0, 1, 2, 3])]\n"
          ]
        }
      ]
    },
    {
      "cell_type": "code",
      "source": [
        "def hill_climbing(sol):\n",
        "  while True:\n",
        "    neighbors = get_neighbors(sol)\n",
        "    best_neighbor = min(neighbors, key=fitness)\n",
        "\n",
        "\n",
        "    if fitness(best_neighbor) < fitness(sol):\n",
        "      sol = best_neighbor\n",
        "    else:\n",
        "      return sol\n",
        "\n",
        "print(hill_climbing(current_solution))"
      ],
      "metadata": {
        "colab": {
          "base_uri": "https://localhost:8080/"
        },
        "id": "dy0j19BbGCZc",
        "outputId": "fd300ee4-2bd3-4366-b461-5257eecf3ca6"
      },
      "execution_count": null,
      "outputs": [
        {
          "output_type": "stream",
          "name": "stdout",
          "text": [
            "[2 1 3 0]\n"
          ]
        }
      ]
    }
  ]
}