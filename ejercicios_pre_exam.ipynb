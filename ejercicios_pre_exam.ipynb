{
  "nbformat": 4,
  "nbformat_minor": 0,
  "metadata": {
    "colab": {
      "provenance": [],
      "include_colab_link": true
    },
    "kernelspec": {
      "name": "python3",
      "display_name": "Python 3"
    },
    "language_info": {
      "name": "python"
    }
  },
  "cells": [
    {
      "cell_type": "markdown",
      "metadata": {
        "id": "view-in-github",
        "colab_type": "text"
      },
      "source": [
        "<a href=\"https://colab.research.google.com/github/yelsinhc2025/PROGRANACION-102/blob/main/ejercicios_pre_exam.ipynb\" target=\"_parent\"><img src=\"https://colab.research.google.com/assets/colab-badge.svg\" alt=\"Open In Colab\"/></a>"
      ]
    },
    {
      "cell_type": "markdown",
      "source": [
        "<img src=\"https://posgrado.utec.edu.pe/sites/default/files/2023-08/Testimonial-home-2.jpg\" alt=\"HTML5 Icon\" width=\"900\" height=\"250\" >\n"
      ],
      "metadata": {
        "id": "a8zyMsSvRXp5"
      }
    },
    {
      "cell_type": "markdown",
      "source": [
        "#**Preguntas Tipo - Programación 101**\n",
        "## **Examen 1**"
      ],
      "metadata": {
        "id": "9zJeD0SAM13Y"
      }
    },
    {
      "cell_type": "markdown",
      "source": [
        "Restricción: No usar bucles (for, while), funciones definidas (def), ni listas.\n",
        "Usar únicamente variables, condicionales (if, elif, else), operaciones básicas, entrada (input()) y salida (print()).\n",
        "\n"
      ],
      "metadata": {
        "id": "eFGrD-AYNEbv"
      }
    },
    {
      "cell_type": "markdown",
      "source": [
        "###**Pregunta 1:**\n",
        "**Verificación numérica sencilla**\n",
        "\n",
        "Ingresa un número entero de dos dígitos y verifica si ambos dígitos son iguales."
      ],
      "metadata": {
        "id": "Y6CsgRhINSz6"
      }
    },
    {
      "cell_type": "code",
      "source": [
        "#Ejemplo:\n",
        "#Entrada: 44\n",
        "#Salida: Dígitos iguales"
      ],
      "metadata": {
        "id": "2jhsmLYPNTW9"
      },
      "execution_count": null,
      "outputs": []
    },
    {
      "cell_type": "code",
      "source": [
        "# Your code starts here\n",
        "\n",
        "\n",
        "\n",
        "# Your code ends here"
      ],
      "metadata": {
        "id": "J5AUksDbNqEV"
      },
      "execution_count": null,
      "outputs": []
    },
    {
      "cell_type": "markdown",
      "source": [
        "###**Pregunta 2:**\n",
        "**Clasificación de letra**\n",
        "\n",
        "Dado un carácter ingresado, determina si es consonante minúscula, consonante mayúscula o no consonante.\n"
      ],
      "metadata": {
        "id": "bOruUQBZNrIT"
      }
    },
    {
      "cell_type": "code",
      "source": [
        "#Ejemplo:\n",
        "#Entrada: \"G\"\n",
        "#Salida: Consonante MAYÚSCULA"
      ],
      "metadata": {
        "id": "q9nphTXnN2e-"
      },
      "execution_count": null,
      "outputs": []
    },
    {
      "cell_type": "code",
      "source": [
        "# Your code starts here\n",
        "\n",
        "\n",
        "\n",
        "# Your code ends here"
      ],
      "metadata": {
        "id": "6D49YSMAN5VP"
      },
      "execution_count": null,
      "outputs": []
    },
    {
      "cell_type": "markdown",
      "source": [
        "###**Pregunta 3:**\n",
        "**Verificador de año bisiesto simplificado**\n",
        "\n",
        "Ingresa un año y determina si es bisiesto (divisible entre 4) o no.\n"
      ],
      "metadata": {
        "id": "bd7DcYvbN5yU"
      }
    },
    {
      "cell_type": "code",
      "source": [
        "#Ejemplo\n",
        "#Entrada: 2024\n",
        "#Salida: Bisiesto"
      ],
      "metadata": {
        "id": "gW-9lUhwOFuq"
      },
      "execution_count": null,
      "outputs": []
    },
    {
      "cell_type": "code",
      "source": [
        "# Your code starts here\n",
        "\n",
        "\n",
        "\n",
        "# Your code ends here"
      ],
      "metadata": {
        "id": "rguN-tC3OESX"
      },
      "execution_count": null,
      "outputs": []
    },
    {
      "cell_type": "markdown",
      "source": [
        "###**Pregunta 4:**\n",
        "**Rango numérico**\n",
        "\n",
        "Ingresa un número y verifica si está dentro del rango [10-20] inclusive o fuera del mismo."
      ],
      "metadata": {
        "id": "iNdvTtA6Qbwe"
      }
    },
    {
      "cell_type": "code",
      "source": [
        "#Ejemplo:\n",
        "#Entrada: 15\n",
        "#Salida: Dentro del rango"
      ],
      "metadata": {
        "id": "vBEZbQ4ZPoCd"
      },
      "execution_count": null,
      "outputs": []
    },
    {
      "cell_type": "code",
      "source": [
        "# Your code starts here\n",
        "\n",
        "\n",
        "\n",
        "# Your code ends here"
      ],
      "metadata": {
        "id": "teGjrMo1PqK2"
      },
      "execution_count": null,
      "outputs": []
    },
    {
      "cell_type": "markdown",
      "source": [
        "###**Pregunta 5:**\n",
        "**Código especial (2 dígitos)**\n",
        "\n",
        "Ingresa un número de dos dígitos. Determina si la multiplicación de ambos dígitos es mayor a 20."
      ],
      "metadata": {
        "id": "U3ct-SRkQhTS"
      }
    },
    {
      "cell_type": "code",
      "source": [
        "#Ejemplo:\n",
        "#Entrada: 57  (5×7=35)\n",
        "#Salida: Producto mayor a 20"
      ],
      "metadata": {
        "id": "l75HDOQ7Qky_"
      },
      "execution_count": null,
      "outputs": []
    },
    {
      "cell_type": "code",
      "source": [
        "# Your code starts here\n",
        "\n",
        "\n",
        "\n",
        "# Your code ends here"
      ],
      "metadata": {
        "id": "Z3uRcAcaQnGP"
      },
      "execution_count": null,
      "outputs": []
    },
    {
      "cell_type": "markdown",
      "source": [
        "###**Pregunta 6:**\n",
        "**Comparador de caracteres**\n",
        "\n",
        "Ingresa dos caracteres e indica cuál tiene mayor valor ASCII. Si son iguales, indícalo."
      ],
      "metadata": {
        "id": "9gtPmEjiQpSy"
      }
    },
    {
      "cell_type": "code",
      "source": [
        "#Ejemplo:\n",
        "#Entrada: a, b\n",
        "#Salida: Segundo mayor"
      ],
      "metadata": {
        "id": "eTtpZLqUQsEH"
      },
      "execution_count": null,
      "outputs": []
    },
    {
      "cell_type": "code",
      "source": [
        "# Your code starts here\n",
        "\n",
        "\n",
        "\n",
        "# Your code ends here"
      ],
      "metadata": {
        "id": "M-OcrIy8QstB"
      },
      "execution_count": null,
      "outputs": []
    },
    {
      "cell_type": "markdown",
      "source": [
        "\n",
        "###**Pregunta 7:**\n",
        "**Contraseña numérica corta**\n",
        "\n",
        "Verifica una contraseña numérica de 3 cifras ingresada por el usuario. La contraseña válida es 369.\n"
      ],
      "metadata": {
        "id": "DbRYWtFaQuYU"
      }
    },
    {
      "cell_type": "code",
      "source": [
        "#Ejemplo:\n",
        "#Entrada: 369\n",
        "#Salida: Acceso autorizado"
      ],
      "metadata": {
        "id": "fO9BNFo4QYbN"
      },
      "execution_count": null,
      "outputs": []
    },
    {
      "cell_type": "code",
      "source": [],
      "metadata": {
        "id": "d95lnFx3QYFL"
      },
      "execution_count": null,
      "outputs": []
    },
    {
      "cell_type": "markdown",
      "source": [
        "###**Pregunta 8:**\n",
        "**Vocales seguidas**\n",
        "\n",
        "Ingresa dos letras, determina si ambas son vocales (mayúsculas o minúsculas).\n"
      ],
      "metadata": {
        "id": "Ltt7Y9EhQSaa"
      }
    },
    {
      "cell_type": "code",
      "source": [
        "#Ejemplo:\n",
        "#Entrada: a, E\n",
        "#Salida: Ambas son vocales"
      ],
      "metadata": {
        "id": "H_h9E0CoQTMS"
      },
      "execution_count": null,
      "outputs": []
    },
    {
      "cell_type": "code",
      "source": [
        "# Your code starts here\n",
        "\n",
        "\n",
        "\n",
        "# Your code ends here"
      ],
      "metadata": {
        "id": "tqwQPMJ9QVRK"
      },
      "execution_count": null,
      "outputs": []
    },
    {
      "cell_type": "markdown",
      "source": [
        "---\n",
        "\n",
        "# Gracias por completar este laboratorio!\n",
        "\n",
        "---\n"
      ],
      "metadata": {
        "id": "eu9RJbEMRbUd"
      }
    }
  ]
}