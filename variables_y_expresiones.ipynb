{
  "nbformat": 4,
  "nbformat_minor": 0,
  "metadata": {
    "colab": {
      "provenance": [],
      "include_colab_link": true
    },
    "kernelspec": {
      "name": "python3",
      "display_name": "Python 3"
    },
    "language_info": {
      "name": "python"
    }
  },
  "cells": [
    {
      "cell_type": "markdown",
      "metadata": {
        "id": "view-in-github",
        "colab_type": "text"
      },
      "source": [
        "<a href=\"https://colab.research.google.com/github/yelsinhc2025/PROGRANACION-102/blob/main/variables_y_expresiones.ipynb\" target=\"_parent\"><img src=\"https://colab.research.google.com/assets/colab-badge.svg\" alt=\"Open In Colab\"/></a>"
      ]
    },
    {
      "cell_type": "markdown",
      "source": [
        "<img src=\"https://posgrado.utec.edu.pe/sites/default/files/2023-08/Testimonial-home-2.jpg\" alt=\"HTML5 Icon\" width=\"900\" height=\"250\" >\n"
      ],
      "metadata": {
        "id": "cqadFmlrgAXp"
      }
    },
    {
      "cell_type": "markdown",
      "source": [
        "# **Variables y Expresiones**"
      ],
      "metadata": {
        "id": "tW1-ULBmb0Cm"
      }
    },
    {
      "cell_type": "markdown",
      "source": [
        "---\n",
        "\n",
        "**Objetivo**\n",
        "\n",
        "Aprender a declarar variables, entender los tipos de datos básicos y construir expresiones aritméticas simples en Python. Al finalizar este laboratorio, serás capaz de:\n",
        "\n",
        "1. Comprender qué es una variable y cómo se asignan valores.\n",
        "2. Identificar y usar tipos de datos básicos: int, float, str, bool.\n",
        "3. Escribir expresiones aritméticas y lógicas simples.\n",
        "4. Usar input() para recolectar información del usuario.\n",
        "5. Aplicar buenas prácticas para el nombramiento de variables.\n",
        "6. Usar funciones como type(), str(), int(), float() y print() con f-strings.\n",
        "\n",
        "\n"
      ],
      "metadata": {
        "id": "8SVMUblUciGO"
      }
    },
    {
      "cell_type": "markdown",
      "source": [
        "---\n",
        "\n",
        "\n",
        "**Contenido**\n",
        "\n",
        "* ¿Qué es una variable?\n",
        "* Tipos de datos\n",
        "* Reglas de nombramiento y convenciones\n",
        "* Expresiones aritméticas y operadores\n",
        "* Conversión de tipos\n",
        "* Entrada y salida con input() y print()\n",
        "* Buenas prácticas y errores comunes\n",
        "\n",
        "---"
      ],
      "metadata": {
        "id": "ljN7F_y1cvKP"
      }
    },
    {
      "cell_type": "markdown",
      "source": [
        "## 1. ¿Qué es una variable?\n"
      ],
      "metadata": {
        "id": "gZJtA8qLd6fR"
      }
    },
    {
      "cell_type": "markdown",
      "source": [
        "### Hola mundo!"
      ],
      "metadata": {
        "id": "ONhZ8XAM0607"
      }
    },
    {
      "cell_type": "code",
      "source": [
        "print('Hello Python world!')"
      ],
      "metadata": {
        "id": "T3x2k7Lg0RKn"
      },
      "execution_count": null,
      "outputs": []
    },
    {
      "cell_type": "code",
      "source": [
        "message = 'Hello Python world!'\n",
        "print(message)"
      ],
      "metadata": {
        "id": "ToF-bNVT0dHt"
      },
      "execution_count": null,
      "outputs": []
    },
    {
      "cell_type": "markdown",
      "source": [
        "\n",
        "### variable\n",
        "\n",
        "Una variable es un nombre que almacena un valor en memoria. En Python, no necesitas declarar su tipo explícitamente: Python lo infiere.\n"
      ],
      "metadata": {
        "id": "mKLdrOwNdzUc"
      }
    },
    {
      "cell_type": "markdown",
      "source": [
        "**Sintaxis**"
      ],
      "metadata": {
        "id": "5byhH5Fzd_Mi"
      }
    },
    {
      "cell_type": "code",
      "source": [
        "# nombre_variable = valor"
      ],
      "metadata": {
        "id": "f_ufYUSrduUx"
      },
      "execution_count": null,
      "outputs": []
    },
    {
      "cell_type": "markdown",
      "source": [
        "**Ejemplo**"
      ],
      "metadata": {
        "id": "uiAE6GjSeHk4"
      }
    },
    {
      "cell_type": "code",
      "source": [
        "nombre = \"Ana\"\n",
        "edad = 22\n",
        "altura = 1.68\n",
        "activo = True\n"
      ],
      "metadata": {
        "id": "V_T82Q0BeCHb"
      },
      "execution_count": null,
      "outputs": []
    },
    {
      "cell_type": "markdown",
      "source": [
        "**Ejercicio 1**\n"
      ],
      "metadata": {
        "id": "8cWlSpKLeWGG"
      }
    },
    {
      "cell_type": "markdown",
      "source": [
        "Declara tus propios datos en variables:\n",
        "\n",
        "* Nombre\n",
        "* Edad\n",
        "* Estatura\n",
        "* Ciudad de residencia\n",
        "* ¿Eres estudiante activo? (usa un booleano)"
      ],
      "metadata": {
        "id": "yo8dIaxleZtP"
      }
    },
    {
      "cell_type": "code",
      "source": [],
      "metadata": {
        "id": "ygBSTom2eRr9"
      },
      "execution_count": null,
      "outputs": []
    },
    {
      "cell_type": "markdown",
      "source": [
        "## 2. Reglas de nombramiento y convenciones"
      ],
      "metadata": {
        "id": "9xUoBDMJj_yi"
      }
    },
    {
      "cell_type": "markdown",
      "source": [
        "**Reglas básicas:**\n",
        "\n",
        "* Nombres en minúsculas y separados por guiones bajos → nombre_completo\n",
        "\n",
        "* No empezar con números\n",
        "\n",
        "* No usar palabras reservadas (if, for, class, etc.)"
      ],
      "metadata": {
        "id": "aPVIl1WUkGgS"
      }
    },
    {
      "cell_type": "markdown",
      "source": [
        "**Ejercicio 2**\n",
        "\n",
        "Corrige los nombres de estas variables según las buenas prácticas:"
      ],
      "metadata": {
        "id": "LwFKLT9mkULa"
      }
    },
    {
      "cell_type": "code",
      "source": [
        "1nombre = \"Ana\"\n",
        "edad* = 30\n",
        "Class = \"Primero\"\n",
        "MiEdad = 18\n"
      ],
      "metadata": {
        "id": "kdG5wfEEkLLb"
      },
      "execution_count": null,
      "outputs": []
    },
    {
      "cell_type": "code",
      "source": [
        "message = 'Hello Python world!'\n",
        "print(mesage)"
      ],
      "metadata": {
        "id": "nvP8mQJk1Ux6"
      },
      "execution_count": null,
      "outputs": []
    },
    {
      "cell_type": "markdown",
      "source": [
        "## 3. Tipos de datos"
      ],
      "metadata": {
        "id": "0R_rpFWseoxW"
      }
    },
    {
      "cell_type": "markdown",
      "source": [
        "![image.png](data:image/png;base64,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)"
      ],
      "metadata": {
        "id": "gCyQQVHRe_1p"
      }
    },
    {
      "cell_type": "markdown",
      "source": [
        "**Ejemplo**"
      ],
      "metadata": {
        "id": "TBEzzZPvhv-H"
      }
    },
    {
      "cell_type": "code",
      "source": [
        "edad = 30           # int\n",
        "precio = 19.99      # float\n",
        "nombre = \"Carlos\"   # str\n",
        "activo = True       # bool"
      ],
      "metadata": {
        "id": "wBHouPokhxGV"
      },
      "execution_count": null,
      "outputs": []
    },
    {
      "cell_type": "markdown",
      "source": [
        "**Ejercicio 3**\n"
      ],
      "metadata": {
        "id": "XQmadtw5h1sl"
      }
    },
    {
      "cell_type": "markdown",
      "source": [
        "Declara una variable por cada tipo y usa **print()** y **type()** para mostrar su tipo de dato.\n",
        "\n"
      ],
      "metadata": {
        "id": "_lbCt01gh5nt"
      }
    },
    {
      "cell_type": "code",
      "source": [],
      "metadata": {
        "id": "8aqVHpblh4G6"
      },
      "execution_count": null,
      "outputs": []
    },
    {
      "cell_type": "markdown",
      "source": [
        "## 4. Expresiones y operadores"
      ],
      "metadata": {
        "id": "dyynrQJ-keEN"
      }
    },
    {
      "cell_type": "markdown",
      "source": [
        "### 4.1. Cadenas"
      ],
      "metadata": {
        "id": "iGOg4m6y1qox"
      }
    },
    {
      "cell_type": "code",
      "source": [
        "\"Esta es una cadena\""
      ],
      "metadata": {
        "id": "pfOR3dAl1sKF"
      },
      "execution_count": null,
      "outputs": []
    },
    {
      "cell_type": "code",
      "source": [
        "'Esta también es una cadena'"
      ],
      "metadata": {
        "id": "6uPcs4fn1v5C"
      },
      "execution_count": null,
      "outputs": []
    },
    {
      "cell_type": "code",
      "source": [
        "'Le dije a mi amigo: \"No me olvidé de ti\"'\n",
        "\"El lenguaje 'Python' se llama así por Monty Python, no por la serpiente\""
      ],
      "metadata": {
        "id": "W_daqpoq12Cf"
      },
      "execution_count": null,
      "outputs": []
    },
    {
      "cell_type": "markdown",
      "source": [
        "#### Operaciones con strings"
      ],
      "metadata": {
        "id": "pc-9oR6E2KOT"
      }
    },
    {
      "cell_type": "code",
      "source": [
        "# title\n",
        "name = 'john caballero'\n",
        "print(name.title())"
      ],
      "metadata": {
        "id": "K0MaIOMn2O2O"
      },
      "execution_count": null,
      "outputs": []
    },
    {
      "cell_type": "code",
      "source": [
        "# capitalize\n",
        "name = 'john caballero'\n",
        "print(name.capitalize())"
      ],
      "metadata": {
        "id": "CLpwcDNG7lrb"
      },
      "execution_count": null,
      "outputs": []
    },
    {
      "cell_type": "code",
      "source": [
        "# upper\n",
        "print(name.upper())"
      ],
      "metadata": {
        "id": "YSWi6XlS2X9v"
      },
      "execution_count": null,
      "outputs": []
    },
    {
      "cell_type": "code",
      "source": [
        "# lower\n",
        "print(name.lower())"
      ],
      "metadata": {
        "id": "dx0cOkOV2Z8f"
      },
      "execution_count": null,
      "outputs": []
    },
    {
      "cell_type": "markdown",
      "source": [
        "#### F-string"
      ],
      "metadata": {
        "id": "t7zNr9oS2c6E"
      }
    },
    {
      "cell_type": "code",
      "source": [
        "first_name = 'john'\n",
        "last_name = 'caballero'\n",
        "full_name = f'{first_name} {last_name}'\n",
        "print(full_name)"
      ],
      "metadata": {
        "id": "m9JhZWap2gIB"
      },
      "execution_count": null,
      "outputs": []
    },
    {
      "cell_type": "code",
      "source": [
        "first_name = 'john'\n",
        "last_name = 'caballero'\n",
        "full_name = f'{first_name} {last_name}'\n",
        "print(f\"{full_name.title()}\")"
      ],
      "metadata": {
        "id": "R645__e52lXi"
      },
      "execution_count": null,
      "outputs": []
    },
    {
      "cell_type": "code",
      "source": [
        "first_name = 'john'\n",
        "last_name = 'caballero'\n",
        "full_name = f'{first_name} {last_name}'\n",
        "message = f\"{full_name.title()}\"\n",
        "print(message)"
      ],
      "metadata": {
        "id": "qq1g--2o20wc"
      },
      "execution_count": null,
      "outputs": []
    },
    {
      "cell_type": "markdown",
      "source": [
        "#### Añadir Espacios"
      ],
      "metadata": {
        "id": "Rv5NnC1R2-Lb"
      }
    },
    {
      "cell_type": "code",
      "source": [
        "print(\"Python\")"
      ],
      "metadata": {
        "id": "hvaw32vS2_wC"
      },
      "execution_count": null,
      "outputs": []
    },
    {
      "cell_type": "code",
      "source": [
        "# tabulaciones\n",
        "print(\"\\tPython\")"
      ],
      "metadata": {
        "id": "x2iKglaQ3Guq"
      },
      "execution_count": null,
      "outputs": []
    },
    {
      "cell_type": "code",
      "source": [
        "# Saltos de linea\n",
        "print(\"Languages:\\n\\tPython\\n\\tC\")"
      ],
      "metadata": {
        "id": "XG_pHind3L0q"
      },
      "execution_count": null,
      "outputs": []
    },
    {
      "cell_type": "markdown",
      "source": [
        "#### Eliminar Espacios"
      ],
      "metadata": {
        "id": "WH1HfLsr3UEc"
      }
    },
    {
      "cell_type": "code",
      "source": [
        "name = '   john    '"
      ],
      "metadata": {
        "id": "_3_Rixk78l5z"
      },
      "execution_count": null,
      "outputs": []
    },
    {
      "cell_type": "code",
      "source": [
        "# rstrip\n",
        "print(name.rstrip())"
      ],
      "metadata": {
        "id": "m4IkqCyo8qrz"
      },
      "execution_count": null,
      "outputs": []
    },
    {
      "cell_type": "code",
      "source": [
        "# lstrip\n",
        "print(name.lstrip())"
      ],
      "metadata": {
        "id": "B2Emnxtq8q9w"
      },
      "execution_count": null,
      "outputs": []
    },
    {
      "cell_type": "code",
      "source": [
        "# strip\n",
        "print(name.strip())"
      ],
      "metadata": {
        "id": "qeKqidAr8rOU"
      },
      "execution_count": null,
      "outputs": []
    },
    {
      "cell_type": "code",
      "source": [
        "# removeprefix\n",
        "\n",
        "feature = 'sunat_ventas_declaradas'\n",
        "print(feature.removeprefix('sunat_'))\n"
      ],
      "metadata": {
        "id": "VMyuxobn9JHQ"
      },
      "execution_count": null,
      "outputs": []
    },
    {
      "cell_type": "code",
      "source": [
        "# removesuffix\n",
        "\n",
        "feature = 'sunat_ventas_declaradas_12'\n",
        "print(feature.removesuffix('_12'))\n"
      ],
      "metadata": {
        "id": "2jBHVLWy-gZQ"
      },
      "execution_count": null,
      "outputs": []
    },
    {
      "cell_type": "markdown",
      "source": [
        "### 4.2. Números"
      ],
      "metadata": {
        "id": "BoCe-gST8byi"
      }
    },
    {
      "cell_type": "markdown",
      "source": [
        "### Enteros"
      ],
      "metadata": {
        "id": "1Fyhb32k-4q6"
      }
    },
    {
      "cell_type": "code",
      "source": [
        "2 + 3"
      ],
      "metadata": {
        "id": "RcAFB47l-6YK"
      },
      "execution_count": null,
      "outputs": []
    },
    {
      "cell_type": "code",
      "source": [
        "3 - 2"
      ],
      "metadata": {
        "id": "lSJHK_60-7ym"
      },
      "execution_count": null,
      "outputs": []
    },
    {
      "cell_type": "code",
      "source": [
        "2 * 3"
      ],
      "metadata": {
        "id": "U5S2C1iZ-91R"
      },
      "execution_count": null,
      "outputs": []
    },
    {
      "cell_type": "code",
      "source": [
        "2 / 3"
      ],
      "metadata": {
        "id": "WnJ4Twnc_BB-"
      },
      "execution_count": null,
      "outputs": []
    },
    {
      "cell_type": "markdown",
      "source": [
        "### Aritméticos básicos"
      ],
      "metadata": {
        "id": "0UFZoO4HkhOO"
      }
    },
    {
      "cell_type": "markdown",
      "source": [
        "![image.png](data:image/png;base64,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)"
      ],
      "metadata": {
        "id": "s0XjnKnblDx0"
      }
    },
    {
      "cell_type": "markdown",
      "source": [
        "**Ejemplo**"
      ],
      "metadata": {
        "id": "KlO0zILalLGW"
      }
    },
    {
      "cell_type": "code",
      "source": [
        "a = 10\n",
        "b = 3\n",
        "print(a + b)     # 13\n",
        "print(a ** b)    # 1000\n",
        "print(a % b)     # 1"
      ],
      "metadata": {
        "id": "vZosDIHClNLo"
      },
      "execution_count": null,
      "outputs": []
    },
    {
      "cell_type": "markdown",
      "source": [
        "**Ejercicio 4**\n",
        "\n",
        "Calcula:\n",
        "\n",
        "* Área de un triángulo: (base * altura) / 2\n",
        "* Velocidad promedio: distancia / tiempo\n"
      ],
      "metadata": {
        "id": "dibcOafxlPX0"
      }
    },
    {
      "cell_type": "code",
      "source": [],
      "metadata": {
        "id": "fz5Wk8qfkftS"
      },
      "execution_count": null,
      "outputs": []
    },
    {
      "cell_type": "markdown",
      "source": [
        "### Floats"
      ],
      "metadata": {
        "id": "ipJOWwAk_InG"
      }
    },
    {
      "cell_type": "code",
      "source": [
        " 0.1 + 0.1"
      ],
      "metadata": {
        "id": "U4rNAAY8_LNA"
      },
      "execution_count": null,
      "outputs": []
    },
    {
      "cell_type": "code",
      "source": [
        "0.1 + 0.2"
      ],
      "metadata": {
        "id": "uYRm7RqD_NFT"
      },
      "execution_count": null,
      "outputs": []
    },
    {
      "cell_type": "markdown",
      "source": [
        "### Guiones en números"
      ],
      "metadata": {
        "id": "3il5g85J_Sq4"
      }
    },
    {
      "cell_type": "code",
      "source": [
        "population = 20_000_0000"
      ],
      "metadata": {
        "id": "HYV-NSPa_Ypx"
      },
      "execution_count": null,
      "outputs": []
    },
    {
      "cell_type": "markdown",
      "source": [
        "### Asignación múltiple"
      ],
      "metadata": {
        "id": "QNn9JgGF_d98"
      }
    },
    {
      "cell_type": "code",
      "source": [
        "x, y, z = 0, 0, 0"
      ],
      "metadata": {
        "id": "ylqO-Uza_goT"
      },
      "execution_count": null,
      "outputs": []
    },
    {
      "cell_type": "markdown",
      "source": [
        "## 5. Entrada y salida: input() y print()"
      ],
      "metadata": {
        "id": "5hkafiiEmgjS"
      }
    },
    {
      "cell_type": "code",
      "source": [
        "name = input(\"ingrese su nombre: \")\n",
        "print(f\"Hola, {name}!\")\n"
      ],
      "metadata": {
        "id": "wS0H_WUimgOs"
      },
      "execution_count": null,
      "outputs": []
    },
    {
      "cell_type": "markdown",
      "source": [
        "**Ejercicio 5**"
      ],
      "metadata": {
        "id": "hbpy5kqQmwo1"
      }
    },
    {
      "cell_type": "markdown",
      "source": [
        "Pide:\n",
        "\n",
        "* Nombre\n",
        "* Comida favorita\n",
        "* Color favorito Y genera una frase como:\n",
        "* Hola Lucía, ¡tu comida favorita es pizza y tu color favorito es el azul!"
      ],
      "metadata": {
        "id": "NvAOJDnumzgt"
      }
    },
    {
      "cell_type": "code",
      "source": [],
      "metadata": {
        "id": "lB6kIr1LmzDF"
      },
      "execution_count": null,
      "outputs": []
    },
    {
      "cell_type": "markdown",
      "source": [
        "### Comentarios en Python"
      ],
      "metadata": {
        "id": "g01yroKt_8IX"
      }
    },
    {
      "cell_type": "markdown",
      "source": [
        "Los comentarios en Python son como pequeñas notas que dejamos en el código para recordar qué hace cada parte. Son súper útiles cuando volvemos a revisar un programa después de un tiempo o cuando alguien más necesita entender lo que hicimos. Ayudan a que el código sea más claro, más fácil de mantener y a evitar confusiones, especialmente en proyectos largos o en equipo."
      ],
      "metadata": {
        "id": "oX_mKA8AAAJI"
      }
    },
    {
      "cell_type": "code",
      "source": [
        "# Saludar a todos\n",
        "print(\"Hola, mundo!\")"
      ],
      "metadata": {
        "id": "J86QvHqSAE0T"
      },
      "execution_count": null,
      "outputs": []
    },
    {
      "cell_type": "markdown",
      "source": [
        "## 6. Conversión de tipos"
      ],
      "metadata": {
        "id": "WV7ZUgxLmFk3"
      }
    },
    {
      "cell_type": "markdown",
      "source": [
        "En Python existen dos tipos principales de conversión de tipos (casting):\n",
        "\n",
        "**Conversión implícita:** Python convierte automáticamente un tipo a otro cuando no hay pérdida de información, por ejemplo, de int a float.\n",
        "\n",
        "**Conversión explícita:** El programador usa funciones como int(), float(), str(), list(), etc., para convertir manualmente entre tipos."
      ],
      "metadata": {
        "id": "SiuOr0JZAoEH"
      }
    },
    {
      "cell_type": "markdown",
      "source": [
        "**Ejemplo**"
      ],
      "metadata": {
        "id": "QW5G31TbmN0r"
      }
    },
    {
      "cell_type": "code",
      "source": [
        "n = input(\"Ingresa tu edad: \")\n",
        "n = int(n)\n",
        "print(f\"En 5 años tendrás {n + 5}\")"
      ],
      "metadata": {
        "id": "FO4ecoTDmMia"
      },
      "execution_count": null,
      "outputs": []
    },
    {
      "cell_type": "markdown",
      "source": [
        "**Ejercicio 6**\n",
        "\n",
        "Pide al usuario:\n",
        "\n",
        "* Su nombre\n",
        "* Su edad\n",
        "* Y muestra el año en que cumplirá 100 años"
      ],
      "metadata": {
        "id": "N85zlhRHmTYe"
      }
    },
    {
      "cell_type": "code",
      "source": [],
      "metadata": {
        "id": "ZV32JFdBm8vF"
      },
      "execution_count": null,
      "outputs": []
    },
    {
      "cell_type": "markdown",
      "source": [
        "## 7. Buenas prácticas y errores comunes"
      ],
      "metadata": {
        "id": "3ev0CRJAm8SZ"
      }
    },
    {
      "cell_type": "markdown",
      "source": [
        "**Errores comunes:**\n",
        "\n",
        "* No convertir input a int\n",
        "* Usar = en vez de ==\n",
        "* Variables mal nombradas\n",
        "* Mezclar tipos sin conversión"
      ],
      "metadata": {
        "id": "WOVFWuR2nAvb"
      }
    },
    {
      "cell_type": "markdown",
      "source": [
        "**Ejercicio 7**\n"
      ],
      "metadata": {
        "id": "UyVcLw4InJxj"
      }
    },
    {
      "cell_type": "code",
      "source": [
        "nombre = input(\"Nombre: \")\n",
        "edad = input(\"Edad: \")\n",
        "print(\"Hola\", nombre, \"el próximo año tendrás\", edad + 1)\n"
      ],
      "metadata": {
        "id": "5Hd7ux4_nQQ8"
      },
      "execution_count": null,
      "outputs": []
    },
    {
      "cell_type": "markdown",
      "source": [
        "## 8. Actividad práctica"
      ],
      "metadata": {
        "id": "UmV-Q7ZNnMoG"
      }
    },
    {
      "cell_type": "markdown",
      "source": [
        "**Actividad 1:**\n",
        "\n",
        "Conversor de unidades\n",
        "Pide una distancia en kilómetros y conviértela a millas (1 km = 0.621371 millas)\n",
        "\n"
      ],
      "metadata": {
        "id": "ozXuecQBnZ6F"
      }
    },
    {
      "cell_type": "code",
      "source": [
        "## INICIO DE CÓDIGO\n",
        "\n",
        "## FIN DE CÓDIGO"
      ],
      "metadata": {
        "id": "x0DXPBhjnNWx"
      },
      "execution_count": null,
      "outputs": []
    },
    {
      "cell_type": "markdown",
      "source": [
        "**Actividad 2:**\n",
        "\n",
        "Calculadora de propina\n",
        "Pide el monto de la cuenta y el porcentaje de propina.\n",
        "\n",
        "Muestra el total a pagar."
      ],
      "metadata": {
        "id": "4Tjh4A-9nbuf"
      }
    },
    {
      "cell_type": "code",
      "source": [
        "## INICIO DE CÓDIGO\n",
        "\n",
        "## FIN DE CÓDIGO"
      ],
      "metadata": {
        "id": "0DvIP6hqnw8v"
      },
      "execution_count": null,
      "outputs": []
    },
    {
      "cell_type": "markdown",
      "source": [
        "---\n",
        "\n",
        "# Conclusión\n",
        "\n",
        "En este laboratorio aprendimos a trabajar con **variables**, **tipos de datos** y **expresiones** en Python. Comprendimos cómo **almacenar información**, realizar **cálculos** y **mostrar resultados al usuario**. También practicamos **buenas prácticas de codificación** y resolvimos problemas simples con **lógica clara y estructurada**. Estos conceptos son la base sobre la cual construiremos programas más complejos en las próximas sesiones.\n",
        "\n",
        "\n",
        "---"
      ],
      "metadata": {
        "id": "yS5PK0B3oCbb"
      }
    },
    {
      "cell_type": "markdown",
      "source": [
        "---\n",
        "\n",
        "# Gracias por completar este laboratorio!\n",
        "\n",
        "---\n"
      ],
      "metadata": {
        "id": "xZwVU5k0goyb"
      }
    }
  ]
}