{
  "nbformat": 4,
  "nbformat_minor": 0,
  "metadata": {
    "colab": {
      "provenance": [],
      "include_colab_link": true
    },
    "kernelspec": {
      "name": "python3",
      "display_name": "Python 3"
    },
    "language_info": {
      "name": "python"
    }
  },
  "cells": [
    {
      "cell_type": "markdown",
      "metadata": {
        "id": "view-in-github",
        "colab_type": "text"
      },
      "source": [
        "<a href=\"https://colab.research.google.com/github/yelsinhc2025/PROGRANACION-102/blob/main/08_visualizacion_de_datos_con_matplotlib_y_seaborn.ipynb\" target=\"_parent\"><img src=\"https://colab.research.google.com/assets/colab-badge.svg\" alt=\"Open In Colab\"/></a>"
      ]
    },
    {
      "cell_type": "markdown",
      "source": [
        "<img src=\"https://www.ctic.uni.edu.pe/wp-content/uploads/2022/04/588px-x-348px-web-1.png\" alt=\"HTML5 Icon\" width=\"900\" height=\"350\" >\n"
      ],
      "metadata": {
        "id": "NMD994yc-6zO"
      }
    },
    {
      "cell_type": "markdown",
      "source": [
        "# **Visualización de Datos con Matplotlib y Seaborn**\n"
      ],
      "metadata": {
        "id": "IQX_3_j5-CS9"
      }
    },
    {
      "cell_type": "markdown",
      "source": [
        "**Objetivo**\n",
        "\n",
        "El objetivo principal de este laboratorio es proporcionar al estudiante de nivel maestría una comprensión profunda y práctica de las técnicas de visualización de datos utilizando las bibliotecas Matplotlib y Seaborn en Python. A través de este laboratorio, el estudiante desarrollará habilidades para crear visualizaciones efectivas y atractivas que faciliten el análisis y la interpretación de datos complejos."
      ],
      "metadata": {
        "id": "xkq2m9qy-Orm"
      }
    },
    {
      "cell_type": "markdown",
      "source": [
        "**Contenido**\n",
        "\n",
        "1. <a href=\"#item1\">Introducción</a>\n",
        "2. <a href=\"#item2\">Fundamentos de Matplotlib</a>\n",
        "3. <a href=\"#item3\">Introducción a Seaborn</a>\n",
        "4. <a href=\"#item4\">Visualizaciones Avanzadas y Técnicas Especiales</a>\n",
        "5. <a href=\"#item5\">Integración con Pandas y Otros Datos\n",
        "</a>\n",
        "</font>\n",
        "</div>\n",
        "\n",
        "\n",
        "\n",
        "\n",
        "---"
      ],
      "metadata": {
        "id": "2YdCkJ8c-W0r"
      }
    },
    {
      "cell_type": "markdown",
      "source": [
        "## 1. Introducción"
      ],
      "metadata": {
        "id": "YubgqdOP_XJD"
      }
    },
    {
      "cell_type": "markdown",
      "source": [
        "### 1.1. Principios básicos de visualización\n",
        "\n",
        "La visualización de datos es una herramienta poderosa que permite transformar datos complejos en representaciones gráficas comprensibles. Para crear visualizaciones efectivas que comuniquen información de manera eficiente y precisa, es fundamental seguir ciertos principios básicos. Estos principios garantizan que el mensaje se transmita claramente y que el espectador pueda interpretar correctamente los datos presentados."
      ],
      "metadata": {
        "id": "xF-huxaU-4fx"
      }
    },
    {
      "cell_type": "markdown",
      "source": [
        "**Claridad**\n",
        "\n",
        "La claridad implica que la visualización transmita el mensaje de forma directa y sin ambigüedades. El objetivo es que el espectador comprenda rápidamente la información sin confusiones."
      ],
      "metadata": {
        "id": "Ip7JtxWO_bv2"
      }
    },
    {
      "cell_type": "markdown",
      "source": [
        "\n",
        "\n",
        "<img src=\"https://files.oaiusercontent.com/file-CCttu854RKs2xRV6Ua8nv9?se=2024-12-05T23%3A13%3A49Z&sp=r&sv=2024-08-04&sr=b&rscc=max-age%3D299%2C%20immutable%2C%20private&rscd=attachment%3B%20filename%3Dfc62fa2a-ffed-43fa-8664-d9f1e02135bb&sig=AoDIn4rKsthho%2BtWicn3FC86v29A6Ht4aMSfvgPkBJE%3D\" alt=\"HTML5 Icon\" width=\"450\" height=\"250\" >"
      ],
      "metadata": {
        "id": "AFBuMjdrFYlA"
      }
    },
    {
      "cell_type": "markdown",
      "source": [
        "\n",
        "\n",
        "<img src=\"https://files.oaiusercontent.com/file-YThL6nMdKUTnPAzXUKH3j7?se=2024-12-05T23%3A13%3A49Z&sp=r&sv=2024-08-04&sr=b&rscc=max-age%3D299%2C%20immutable%2C%20private&rscd=attachment%3B%20filename%3D224d02a4-9b97-415a-8608-41f7bb9b1bc5&sig=FJ9GuwyIYfPb0y/eomH4TNmcFJpwXAuNwxblk%2BmNoi0%3D\" alt=\"HTML5 Icon\" width=\"450\" height=\"250\" >"
      ],
      "metadata": {
        "id": "_8yGdTM-FfLD"
      }
    },
    {
      "cell_type": "markdown",
      "source": [
        "**Precisión**\n",
        "\n",
        "La precisión se refiere a la representación exacta y fiel de los datos sin distorsiones o manipulaciones que puedan llevar a interpretaciones erróneas."
      ],
      "metadata": {
        "id": "2siR5OUCAYko"
      }
    },
    {
      "cell_type": "markdown",
      "source": [
        "<img src=\"https://files.oaiusercontent.com/file-8S9uRW3kpDeQvNgNwgSHJm?se=2024-12-05T18%3A14%3A40Z&sp=r&sv=2024-08-04&sr=b&rscc=max-age%3D299%2C%20immutable%2C%20private&rscd=attachment%3B%20filename%3Ddb35b111-3b80-49e6-824f-4a598b720d9d&sig=F8xCXMEKQz1ZIslAuWcvdJxVQiv9HNMZTn41CiDGqQg%3D\n",
        "\" alt=\"HTML5 Icon\" width=\"450\" height=\"250\" >"
      ],
      "metadata": {
        "id": "lXW_PA8qBLxc"
      }
    },
    {
      "cell_type": "markdown",
      "source": [
        "\n",
        "\n",
        "<img src=\"https://files.oaiusercontent.com/file-A1amYtZe1M2VtoJb9g18RZ?se=2024-12-05T18%3A14%3A40Z&sp=r&sv=2024-08-04&sr=b&rscc=max-age%3D299%2C%20immutable%2C%20private&rscd=attachment%3B%20filename%3D04ce42f4-b0a8-454f-855b-b2368da870ec&sig=7zK829H3iUYC/21Lhy0FDmZ38kK1Wg42Q7xRcZpzK34%3D\" alt=\"HTML5 Icon\" width=\"450\" height=\"250\" >"
      ],
      "metadata": {
        "id": "UDK4fbBoBYGi"
      }
    },
    {
      "cell_type": "markdown",
      "source": [
        "**Estética**\n",
        "\n",
        "La estética se centra en hacer que la visualización sea visualmente atractiva y agradable, lo que facilita la retención de información y mantiene el interés del espectador."
      ],
      "metadata": {
        "id": "K5u4GaHJBb3C"
      }
    },
    {
      "cell_type": "markdown",
      "source": [
        "<img src=\"https://files.oaiusercontent.com/file-4gDtCQsWmmGLduig8zMgN7?se=2024-12-05T19%3A59%3A48Z&sp=r&sv=2024-08-04&sr=b&rscc=max-age%3D299%2C%20immutable%2C%20private&rscd=attachment%3B%20filename%3D58e1c822-5293-4b7b-ae7c-89ce514fb90e&sig=07QWp8HYQ1dOQFi3rtbRpuYEmnMgWNIvowZXqb/agak%3D\" alt=\"HTML5 Icon\" width=\"450\" height=\"250\" >"
      ],
      "metadata": {
        "id": "T-z40Ye8ZL5M"
      }
    },
    {
      "cell_type": "markdown",
      "source": [
        "\n",
        "<img src=\"https://files.oaiusercontent.com/file-Wwu39SFMFeM3fLJs6kJSSj?se=2024-12-05T19%3A59%3A47Z&sp=r&sv=2024-08-04&sr=b&rscc=max-age%3D299%2C%20immutable%2C%20private&rscd=attachment%3B%20filename%3D95f08551-f3b7-41d0-9bc0-ee57ac3593b3&sig=7NCrcFGFLGA01XAC6Q4MInExFczHLqzIM3hbrScDGsg%3D\n",
        "\" alt=\"HTML5 Icon\" width=\"450\" height=\"250\" >"
      ],
      "metadata": {
        "id": "ZI9LubUtZMbv"
      }
    },
    {
      "cell_type": "markdown",
      "source": [
        "**Contexto**\n",
        "\n",
        "El contexto proporciona al espectador la información necesaria para interpretar correctamente la visualización, comprendiendo qué representan los datos y cómo deben ser leídos."
      ],
      "metadata": {
        "id": "GtY3zA_fBbzs"
      }
    },
    {
      "cell_type": "markdown",
      "source": [
        "<img src=\"https://files.oaiusercontent.com/file-ViUw3q4ni9MkBnkQacTb9k?se=2024-12-05T20%3A03%3A25Z&sp=r&sv=2024-08-04&sr=b&rscc=max-age%3D299%2C%20immutable%2C%20private&rscd=attachment%3B%20filename%3Dad65d59f-8831-488a-8d41-325cffdacbab&sig=VIHF0NYwFqcuwAzutn57Uhq%2BajbmBT4s84hrd6I4ZPU%3D\" alt=\"HTML5 Icon\" width=\"450\" height=\"250\" >"
      ],
      "metadata": {
        "id": "MjHHmuezZwnJ"
      }
    },
    {
      "cell_type": "markdown",
      "source": [
        "<img src=\"https://files.oaiusercontent.com/file-JkhuHzhPFGPGRwagv6oiv2?se=2024-12-05T20%3A03%3A25Z&sp=r&sv=2024-08-04&sr=b&rscc=max-age%3D299%2C%20immutable%2C%20private&rscd=attachment%3B%20filename%3D4eb2fb28-6010-48ac-9648-aeaafd7b199d&sig=gw6YSXwpNQRi7RX2Cho2YIy3QpC%2B5/0WCtVBcVqDzKs%3D\" alt=\"HTML5 Icon\" width=\"450\" height=\"250\" >"
      ],
      "metadata": {
        "id": "IP4duHeOZyd9"
      }
    },
    {
      "cell_type": "markdown",
      "source": [
        "### 1.2. Bibliotecas de visualización en Python\n",
        "\n",
        "Python ofrece varias bibliotecas para la visualización de datos:\n",
        "\n",
        "- **Matplotlib:** Biblioteca básica y altamente personalizable para gráficos en 2D y 3D.\n",
        "- **Seaborn:** Basada en Matplotlib, proporciona una interfaz de alto nivel para gráficos estadísticos atractivos.\n",
        "- **Otros:** Existen otras bibliotecas como Plotly y Bokeh, pero nos enfocaremos en Matplotlib y Seaborn."
      ],
      "metadata": {
        "id": "TQs0j35UZwaB"
      }
    },
    {
      "cell_type": "markdown",
      "source": [
        "## 2. Fundamentos de Matplotlib\n",
        "\n"
      ],
      "metadata": {
        "id": "ytjK-qMjGAek"
      }
    },
    {
      "cell_type": "markdown",
      "source": [
        "### 2.1. Estructura y componentes de Matplotlib\n",
        "\n",
        "Matplotlib tiene dos interfaces principales:\n",
        "\n",
        "**Pyplot:** Módulo que proporciona una interfaz similar a MATLAB para crear gráficos rápidamente."
      ],
      "metadata": {
        "id": "QjVAayMZGC1k"
      }
    },
    {
      "cell_type": "code",
      "execution_count": null,
      "metadata": {
        "id": "vzLTsKtX-Bkc"
      },
      "outputs": [],
      "source": [
        "import matplotlib.pyplot as plt\n"
      ]
    },
    {
      "cell_type": "markdown",
      "source": [
        "**Orientada a objetos:** Permite un mayor control y personalización de los gráficos."
      ],
      "metadata": {
        "id": "eUEVhZq0GJpp"
      }
    },
    {
      "cell_type": "code",
      "source": [
        "fig, ax = plt.subplots()\n"
      ],
      "metadata": {
        "id": "NibBlx6eGWSr"
      },
      "execution_count": null,
      "outputs": []
    },
    {
      "cell_type": "markdown",
      "source": [
        "Componentes clave:\n",
        "\n",
        "- Figure: Objeto que representa la figura global o ventana donde se dibuja.\n",
        "- Axes: Área dentro de la figura donde se grafican los datos (puede haber múltiples ejes).\n",
        "- Axis: Ejes X e Y que conforman los 'Axes'."
      ],
      "metadata": {
        "id": "y5MSLf1jGUv2"
      }
    },
    {
      "cell_type": "markdown",
      "source": [
        "### 2.2. Creación de gráficos básicos\n",
        "\n",
        "**2.2.1. Gráficos de líneas**\n",
        "\n",
        "Los gráficos de líneas son útiles para mostrar tendencias en datos continuos.\n",
        "\n"
      ],
      "metadata": {
        "id": "1gQ6-sJXGltx"
      }
    },
    {
      "cell_type": "markdown",
      "source": [
        "Ejemplo: Gráfico de líneas sencillo"
      ],
      "metadata": {
        "id": "wJR5NpPYGqw2"
      }
    },
    {
      "cell_type": "code",
      "source": [
        "import matplotlib.pyplot as plt\n",
        "import numpy as np\n",
        "\n",
        "# Datos\n",
        "x = np.linspace(0, 10, 100)\n",
        "y = np.sin(x)\n",
        "\n",
        "# Crear gráfico\n",
        "plt.plot(x, y)               # Generar un gráfico con x en el eje X e y en el eje Y\n",
        "plt.title('Función Seno')    # Agregar un título al gráfico\n",
        "plt.xlabel('Eje X')          # Etiquetar el eje X como \"Eje X\"\n",
        "plt.ylabel('Eje Y')          # Etiquetar el eje Y como \"Eje Y\"\n",
        "plt.grid(True)               # Activar una cuadrícula para mejorar la visualización\n",
        "plt.show()                   # Mostrar el gráfico en pantalla\n"
      ],
      "metadata": {
        "id": "ohHqHLAXGs6X"
      },
      "execution_count": null,
      "outputs": []
    },
    {
      "cell_type": "markdown",
      "source": [
        "**2.2.2. Gráficos de dispersión**\n",
        "\n",
        "Los gráficos de dispersión muestran la relación entre dos variables numéricas.\n",
        "\n"
      ],
      "metadata": {
        "id": "TsDp7iIcG4D3"
      }
    },
    {
      "cell_type": "markdown",
      "source": [
        "Ejemplo: Gráfico de dispersión"
      ],
      "metadata": {
        "id": "uewhPG-xG7RC"
      }
    },
    {
      "cell_type": "code",
      "source": [
        "# Datos\n",
        "x = np.random.rand(50)\n",
        "y = np.random.rand(50)\n",
        "\n",
        "# Crear gráfico\n",
        "plt.scatter(x, y, color='green', marker='o')\n",
        "plt.title('Gráfico de Dispersión')\n",
        "plt.xlabel('Variable X')\n",
        "plt.ylabel('Variable Y')\n",
        "plt.show()\n"
      ],
      "metadata": {
        "id": "YBiUq5FWHZ3y"
      },
      "execution_count": null,
      "outputs": []
    },
    {
      "cell_type": "markdown",
      "source": [
        "**2.2.3. Gráficos de barras**\n",
        "\n",
        "Se utilizan para comparar cantidades entre diferentes categorías.\n",
        "\n"
      ],
      "metadata": {
        "id": "vtzbFFD5He-l"
      }
    },
    {
      "cell_type": "markdown",
      "source": [
        "Ejemplo: Gráfico de barras vertical"
      ],
      "metadata": {
        "id": "FJ1rbYL1Hml6"
      }
    },
    {
      "cell_type": "code",
      "source": [
        "# Datos\n",
        "categorias = ['A', 'B', 'C', 'D']\n",
        "valores = [10, 15, 7, 12]\n",
        "\n",
        "# Crear gráfico\n",
        "plt.bar(categorias, valores, color='blue')\n",
        "plt.title('Ventas por Categoría')\n",
        "plt.xlabel('Categorías')\n",
        "plt.ylabel('Ventas')\n",
        "plt.show()\n"
      ],
      "metadata": {
        "id": "ngmspDSaHoqq"
      },
      "execution_count": null,
      "outputs": []
    },
    {
      "cell_type": "markdown",
      "source": [
        "**2.2.4. Histogramas**\n",
        "\n",
        "Los histogramas muestran la distribución de una variable numérica.\n",
        "\n"
      ],
      "metadata": {
        "id": "qkk9rOJ_HupF"
      }
    },
    {
      "cell_type": "markdown",
      "source": [
        "Ejemplo: Histograma"
      ],
      "metadata": {
        "id": "GNehLdyUHxnR"
      }
    },
    {
      "cell_type": "code",
      "source": [
        "# Datos\n",
        "data = np.random.normal(0, 1, 1000)\n",
        "\n",
        "# Crear histograma\n",
        "plt.hist(data, bins=30, color='purple', edgecolor='black')\n",
        "plt.title('Distribución Normal')\n",
        "plt.xlabel('Valor')\n",
        "plt.ylabel('Frecuencia')\n",
        "plt.show()\n"
      ],
      "metadata": {
        "id": "tyuBvt83H0V7"
      },
      "execution_count": null,
      "outputs": []
    },
    {
      "cell_type": "markdown",
      "source": [
        "**2.2.5. Gráficos circulares (pie charts)**\n",
        "\n",
        "Muestran la proporción de partes de un todo.\n",
        "\n"
      ],
      "metadata": {
        "id": "KFJrETmsH56t"
      }
    },
    {
      "cell_type": "markdown",
      "source": [
        "Ejemplo: Gráfico circular"
      ],
      "metadata": {
        "id": "9hbRX3XzH8SZ"
      }
    },
    {
      "cell_type": "code",
      "source": [
        "# Datos\n",
        "fracciones = [15, 30, 45, 10]\n",
        "etiquetas = ['Manzanas', 'Bananas', 'Cerezas', 'Dátiles']\n",
        "\n",
        "# Crear gráfico\n",
        "plt.pie(fracciones, labels=etiquetas, autopct='%1.1f%%', startangle=90)\n",
        "plt.title('Distribución de Frutas')\n",
        "plt.axis('equal')  # Para que el gráfico sea circular\n",
        "plt.show()\n"
      ],
      "metadata": {
        "id": "4IqVXlcwH8ow"
      },
      "execution_count": null,
      "outputs": []
    },
    {
      "cell_type": "markdown",
      "source": [
        "### 2.3. Personalización de gráficos\n",
        "\n",
        "La personalización mejora la claridad y estética de los gráficos.\n",
        "\n"
      ],
      "metadata": {
        "id": "QzaH9V0uIMyq"
      }
    },
    {
      "cell_type": "markdown",
      "source": [
        "**2.3.1. Títulos, etiquetas y leyendas**\n",
        "\n",
        "- Título: plt.title('Título del Gráfico')\n",
        "- Etiquetas de ejes: plt.xlabel('Etiqueta X'), plt.ylabel('Etiqueta Y')\n",
        "- Leyendas: plt.legend() después de asignar label en las series de datos.\n",
        "\n",
        "Ejemplo:"
      ],
      "metadata": {
        "id": "J4HiqaD7IPua"
      }
    },
    {
      "cell_type": "code",
      "source": [
        "# Datos\n",
        "x = np.linspace(0, 10, 100)\n",
        "y1 = np.sin(x)\n",
        "y2 = np.cos(x)\n",
        "\n",
        "# Crear gráfico\n",
        "plt.plot(x, y1, label='Seno', color='red')\n",
        "plt.plot(x, y2, label='Coseno', color='blue')\n",
        "\n",
        "# Personalización\n",
        "plt.title('Funciones Trigonométricas')\n",
        "plt.xlabel('Ángulo (rad)')\n",
        "plt.ylabel('Valor')\n",
        "plt.legend()\n",
        "plt.grid(True)\n",
        "plt.show()\n"
      ],
      "metadata": {
        "id": "piZWUWzOIZMF"
      },
      "execution_count": null,
      "outputs": []
    },
    {
      "cell_type": "markdown",
      "source": [
        "**2.3.2. Estilos de línea y marcadores**\n",
        "\n",
        "- Estilos de línea: linestyle='--' (discontinua), '-' (continua), ':' (punteada).\n",
        "- Marcadores: marker='o', '^', 's' (círculo, triángulo, cuadrado).\n",
        "- Ancho de línea: linewidth=2.\n",
        "\n",
        "Ejemplo:\n"
      ],
      "metadata": {
        "id": "BQkgTkQRIgKF"
      }
    },
    {
      "cell_type": "code",
      "source": [
        "\n",
        "plt.plot(x, y1, linestyle='--', marker='o', color='green', linewidth=2, label='Seno')\n"
      ],
      "metadata": {
        "id": "UvsiUW35IlW7"
      },
      "execution_count": null,
      "outputs": []
    },
    {
      "cell_type": "markdown",
      "source": [
        "**2.3.3. Colores y paletas**\n",
        "\n",
        "- Colores básicos: 'red', 'blue', 'green'.\n",
        "- Códigos hexadecimales: color='#FF5733'.\n",
        "- Mapas de color (colormaps): plt.cm.viridis, plt.cm.plasma.\n",
        "\n",
        "Ejemplo:"
      ],
      "metadata": {
        "id": "wjIwYothIw2v"
      }
    },
    {
      "cell_type": "code",
      "source": [
        "# Usando un colormap para un scatter plot\n",
        "colors = x  # Colorear según los valores de x\n",
        "plt.scatter(x, y1, c=colors, cmap='plasma')\n",
        "plt.colorbar()  # Añadir barra de color\n"
      ],
      "metadata": {
        "id": "Ms152RjEI2bh"
      },
      "execution_count": null,
      "outputs": []
    },
    {
      "cell_type": "markdown",
      "source": [
        "**2.3.4. Anotaciones y textos**\n",
        "\n",
        "Permiten resaltar puntos o áreas de interés.\n",
        "\n",
        "Ejemplo:"
      ],
      "metadata": {
        "id": "AXrZtm7gJRQ2"
      }
    },
    {
      "cell_type": "code",
      "source": [
        "# Dibujar el gráfico con los valores de x en el eje X y y1 en el eje Y\n",
        "plt.plot(x, y1)\n",
        "\n",
        "# Agregar una anotación en el gráfico\n",
        "plt.annotate(\n",
        "    'Máximo',                        # Texto de la anotación\n",
        "    xy=(np.pi/2, 1),                 # Coordenadas del punto a destacar (π/2, 1)\n",
        "    xytext=(np.pi/2, 1.2),           # Posición del texto, ligeramente por encima del punto\n",
        "    arrowprops=dict(                 # Propiedades de la flecha que conecta el texto con el punto\n",
        "        facecolor='black',           # Color de la flecha (negro)\n",
        "        arrowstyle='->'              # Estilo de la flecha (línea con punta)\n",
        "    )\n",
        ")\n"
      ],
      "metadata": {
        "id": "IdEpxrMHJUuk"
      },
      "execution_count": null,
      "outputs": []
    },
    {
      "cell_type": "markdown",
      "source": [
        "**2.3.5. Configuración de ejes y escalas**\n",
        "\n",
        "\n",
        "Escalas logarítmicas:\n",
        "\n"
      ],
      "metadata": {
        "id": "PPQ53MRTJ3CH"
      }
    },
    {
      "cell_type": "code",
      "source": [
        "plt.plot(x, y1)\n",
        "plt.xscale('log')  # Configurar el eje X con escala logarítmica\n",
        "plt.yscale('log')  # Configurar el eje Y con escala logarítmica"
      ],
      "metadata": {
        "id": "tKA4CV4cKNU_"
      },
      "execution_count": null,
      "outputs": []
    },
    {
      "cell_type": "markdown",
      "source": [
        "Límites de ejes:\n"
      ],
      "metadata": {
        "id": "g6FFVRClKHO9"
      }
    },
    {
      "cell_type": "code",
      "source": [
        "plt.plot(x, y1)\n",
        "plt.xlim(min, max), plt.ylim(min, max)"
      ],
      "metadata": {
        "id": "EdaPoK-_KFWi"
      },
      "execution_count": null,
      "outputs": []
    },
    {
      "cell_type": "markdown",
      "source": [
        "Ticks personalizados:"
      ],
      "metadata": {
        "id": "uh5VYrVHKJu7"
      }
    },
    {
      "cell_type": "code",
      "source": [
        "plt.plot(x, y1)\n",
        "plt.xticks([0, np.pi/2, np.pi, 3*np.pi/2, 2*np.pi],\n",
        "           ['0', 'π/2', 'π', '3π/2', '2π'])"
      ],
      "metadata": {
        "id": "AvgSEjPJJ-ae"
      },
      "execution_count": null,
      "outputs": []
    },
    {
      "cell_type": "markdown",
      "source": [
        "### 2.4. Subplots y gestión de figuras\n",
        "\n",
        "**2.4.1. Creación de múltiples subplots**\n",
        "\n",
        "Se utilizan para mostrar múltiples gráficos en una sola figura.\n",
        "\n",
        "Ejemplo:"
      ],
      "metadata": {
        "id": "4cq5ikV-Kebp"
      }
    },
    {
      "cell_type": "code",
      "source": [
        "# Importar la biblioteca para crear gráficos\n",
        "import matplotlib.pyplot as plt\n",
        "\n",
        "# Crear una figura con una cuadrícula de subplots de 2 filas y 2 columnas\n",
        "fig, axs = plt.subplots(2, 2)\n",
        "\n",
        "# Gráfico 1: Función seno\n",
        "axs[0, 0].plot(x, y1, color='red')  # Dibujar la función seno en el subplot superior izquierdo\n",
        "axs[0, 0].set_title('Seno')        # Título del gráfico\n",
        "\n",
        "# Gráfico 2: Función coseno\n",
        "axs[0, 1].plot(x, y2, color='blue')  # Dibujar la función coseno en el subplot superior derecho\n",
        "axs[0, 1].set_title('Coseno')        # Título del gráfico\n",
        "\n",
        "# Gráfico 3: Función tangente\n",
        "axs[1, 0].plot(x, np.tan(x), color='green')  # Dibujar la función tangente en el subplot inferior izquierdo\n",
        "axs[1, 0].set_title('Tangente')              # Título del gráfico\n",
        "axs[1, 0].set_ylim(-10, 10)                  # Limitar el rango del eje Y para evitar valores extremos\n",
        "\n",
        "# Gráfico 4: Función seno hiperbólico\n",
        "axs[1, 1].plot(x, np.sinh(x), color='purple')  # Dibujar la función seno hiperbólico en el subplot inferior derecho\n",
        "axs[1, 1].set_title('Seno Hiperbólico')        # Título del gráfico\n",
        "\n",
        "# Ajustar el diseño para evitar solapamientos entre los subplots\n",
        "plt.tight_layout()\n",
        "\n",
        "# Mostrar la figura con los 4 subplots\n",
        "plt.show()\n"
      ],
      "metadata": {
        "id": "2eHXPfxRKjvL"
      },
      "execution_count": null,
      "outputs": []
    },
    {
      "cell_type": "markdown",
      "source": [
        "**2.4.2. Ajuste de espacios y tamaños**\n",
        "\n",
        "Espacios entre subplots:\n"
      ],
      "metadata": {
        "id": "A4hmyuGIK0cv"
      }
    },
    {
      "cell_type": "code",
      "source": [
        "# Ajustar los espacios entre los subplots\n",
        "plt.subplots_adjust(hspace=0.5, wspace=0.5)  # hspace ajusta el espacio vertical entre las filas\n",
        "                                            # wspace ajusta el espacio horizontal entre las columnas\n"
      ],
      "metadata": {
        "colab": {
          "base_uri": "https://localhost:8080/",
          "height": 34
        },
        "id": "rdtU2UAHK22Z",
        "outputId": "101eaf25-72cd-43fd-b3d3-0bec4e5bdc97"
      },
      "execution_count": null,
      "outputs": [
        {
          "output_type": "display_data",
          "data": {
            "text/plain": [
              "<Figure size 640x480 with 0 Axes>"
            ]
          },
          "metadata": {}
        }
      ]
    },
    {
      "cell_type": "markdown",
      "source": [
        "Tamaño de la figura:"
      ],
      "metadata": {
        "id": "HZBRtExIK4Ia"
      }
    },
    {
      "cell_type": "code",
      "source": [
        "fig.set_size_inches(12, 8)  # Establecer el tamaño de la figura en 12 pulgadas de ancho y 8 pulgadas de alto\n"
      ],
      "metadata": {
        "id": "6aJZ8ilbK5Bt"
      },
      "execution_count": null,
      "outputs": []
    },
    {
      "cell_type": "markdown",
      "source": [
        "**2.4.3. Uso de GridSpec para layouts complejos**\n",
        "\n",
        "GridSpec permite crear layouts más flexibles.\n",
        "\n",
        "Ejemplo:"
      ],
      "metadata": {
        "id": "cnijffmVLlU1"
      }
    },
    {
      "cell_type": "code",
      "source": [
        "import matplotlib.gridspec as gridspec\n",
        "\n",
        "fig = plt.figure()\n",
        "gs = gridspec.GridSpec(3, 3)\n",
        "\n",
        "ax1 = fig.add_subplot(gs[0, :])  # Fila 0, todas las columnas\n",
        "ax2 = fig.add_subplot(gs[1, :-1])  # Fila 1, todas menos la última columna\n",
        "ax3 = fig.add_subplot(gs[1:, -1])  # Filas 1 y 2, última columna\n",
        "ax4 = fig.add_subplot(gs[-1, 0])  # Última fila, primera columna\n",
        "ax5 = fig.add_subplot(gs[-1, -2])  # Última fila, penúltima columna\n",
        "\n",
        "plt.tight_layout()\n",
        "plt.show()\n"
      ],
      "metadata": {
        "id": "Lf4_bjzFLoGW"
      },
      "execution_count": null,
      "outputs": []
    },
    {
      "cell_type": "markdown",
      "source": [
        "### 2.5. Guardar y exportar gráficos\n",
        "\n",
        "Puedes guardar los gráficos en diferentes formatos."
      ],
      "metadata": {
        "id": "0LTY162tLvz6"
      }
    },
    {
      "cell_type": "code",
      "source": [
        "plt.savefig('mi_grafico.png', dpi=300, bbox_inches='tight')\n"
      ],
      "metadata": {
        "id": "0jivRkDFLza7"
      },
      "execution_count": null,
      "outputs": []
    },
    {
      "cell_type": "markdown",
      "source": [
        "- dpi: Resolución de la imagen.\n",
        "- bbox_inches: Recorta los espacios en blanco alrededor del gráfico."
      ],
      "metadata": {
        "id": "CBqlT76pL1oA"
      }
    },
    {
      "cell_type": "markdown",
      "source": [
        "### 2.6. Ejercicios\n",
        "\n",
        "**Ejercicio 1**\n",
        "\n",
        "Crea un gráfico de líneas que represente las funciones seno y coseno en el rango de 0 a 2π. Personaliza el gráfico de la siguiente manera:\n",
        "\n",
        "- Las líneas deben tener diferentes estilos (por ejemplo, línea continua y discontinua) y colores.\n",
        "- Añade una leyenda que identifique cada función.\n",
        "- Coloca etiquetas en los ejes y un título al gráfico.\n",
        "Personaliza los ticks del eje X para mostrar múltiplos de π."
      ],
      "metadata": {
        "id": "fvDzi7eSL7XA"
      }
    },
    {
      "cell_type": "code",
      "source": [],
      "metadata": {
        "id": "0YI0yHi9MDr7"
      },
      "execution_count": null,
      "outputs": []
    },
    {
      "cell_type": "markdown",
      "source": [
        "**Ejercicio 2**\n",
        "\n",
        "Utiliza datos ficticios para crear un gráfico de barras horizontal que muestre las ventas mensuales de una empresa durante un año. Asegúrate de:\n",
        "\n",
        "- Ordenar los meses de enero a diciembre en el eje vertical.\n",
        "- Añadir colores diferentes para cada barra.\n",
        "- Incluir etiquetas que muestren el valor exacto de ventas en cada barra."
      ],
      "metadata": {
        "id": "X5r16UBaMEB3"
      }
    },
    {
      "cell_type": "code",
      "source": [],
      "metadata": {
        "id": "EZ4mHM6-MHNz"
      },
      "execution_count": null,
      "outputs": []
    },
    {
      "cell_type": "markdown",
      "source": [
        "**Ejercicio 3**\n",
        "\n",
        "Genera un histograma que muestre la distribución de alturas en centímetros de una población ficticia de 500 personas. Considera:\n",
        "\n",
        "- Utilizar 20 bins en el histograma.\n",
        "- Resaltar la media de la distribución con una línea vertical.\n",
        "- Añadir anotaciones que indiquen las medidas de tendencia central (media y mediana)."
      ],
      "metadata": {
        "id": "z84nyp3qMH2I"
      }
    },
    {
      "cell_type": "code",
      "source": [],
      "metadata": {
        "id": "FVCFAKhZMND4"
      },
      "execution_count": null,
      "outputs": []
    },
    {
      "cell_type": "markdown",
      "source": [
        "## 3. Introducción a Seaborn\n"
      ],
      "metadata": {
        "id": "mo3LPgT4MSgK"
      }
    },
    {
      "cell_type": "markdown",
      "source": [
        "### 3.1. ¿Qué es Seaborn y por qué usarlo?\n",
        "\n",
        "Seaborn es una biblioteca de visualización de datos en Python basada en Matplotlib que proporciona una interfaz de alto nivel para dibujar atractivos gráficos estadísticos.\n",
        "\n",
        "**Ventajas:**\n",
        "\n",
        "- Estética mejorada: Gráficos más atractivos por defecto.\n",
        "- Integración con Pandas: Trabaja de forma eficiente con DataFrames.\n",
        "- Funciones especializadas: Para gráficos estadísticos comunes.\n",
        "- Manejo de datos faltantes y variables categóricas."
      ],
      "metadata": {
        "id": "Qq3-4K03MWOa"
      }
    },
    {
      "cell_type": "markdown",
      "source": [
        "Importación básica:"
      ],
      "metadata": {
        "id": "5YAuM07wMcpN"
      }
    },
    {
      "cell_type": "code",
      "source": [
        "import seaborn as sns\n"
      ],
      "metadata": {
        "id": "mUOKjrPnMe5w"
      },
      "execution_count": null,
      "outputs": []
    },
    {
      "cell_type": "markdown",
      "source": [
        "### 3.2. Configuración y estilos en Seaborn\n",
        "\n",
        "**3.2.1. Temas predefinidos**\n",
        "\n",
        "Seaborn ofrece estilos que mejoran la estética de los gráficos.\n",
        "\n",
        "Estilos disponibles: 'darkgrid', 'whitegrid', 'dark', 'white', 'ticks'.\n",
        "\n",
        "Aplicar un estilo:"
      ],
      "metadata": {
        "id": "5-oHYHbHMgno"
      }
    },
    {
      "cell_type": "code",
      "source": [
        "sns.set_style('whitegrid')\n"
      ],
      "metadata": {
        "id": "yE9W_TqWMm1P"
      },
      "execution_count": null,
      "outputs": []
    },
    {
      "cell_type": "markdown",
      "source": [
        "**3.2.2. Contextos y estilos de fuente**\n",
        "\n",
        "El contexto ajusta el tamaño de los elementos del gráfico.\n",
        "\n",
        "Contextos disponibles: 'paper', 'notebook', 'talk', 'poster'.\n",
        "\n",
        "Aplicar un contexto:"
      ],
      "metadata": {
        "id": "rtCexnnPMoyV"
      }
    },
    {
      "cell_type": "code",
      "source": [
        "sns.set_context('talk')\n"
      ],
      "metadata": {
        "id": "ve3cF4MDMuZh"
      },
      "execution_count": null,
      "outputs": []
    },
    {
      "cell_type": "markdown",
      "source": [
        "**3.2.3. Paletas de colores**\n",
        "\n",
        "Paletas predefinidas: 'deep', 'muted', 'pastel', 'bright', 'dark', 'colorblind'.\n",
        "\n",
        "Paletas personalizadas:"
      ],
      "metadata": {
        "id": "-BUkFlizMxal"
      }
    },
    {
      "cell_type": "code",
      "source": [
        "sns.set_palette('Set2')\n"
      ],
      "metadata": {
        "id": "Lqum9orEM04J"
      },
      "execution_count": null,
      "outputs": []
    },
    {
      "cell_type": "markdown",
      "source": [
        "Ejemplo de configuración completa:\n"
      ],
      "metadata": {
        "id": "aP3mzOGpM2mf"
      }
    },
    {
      "cell_type": "code",
      "source": [
        "sns.set_style('whitegrid')\n",
        "sns.set_context('notebook', font_scale=1.2)\n",
        "sns.set_palette('pastel')\n"
      ],
      "metadata": {
        "id": "qCK9e5ZjM4ba"
      },
      "execution_count": null,
      "outputs": []
    },
    {
      "cell_type": "markdown",
      "source": [
        "### 3.3. Gráficos estadísticos con Seaborn\n",
        "\n",
        "**3.3.1. Gráficos de distribución**\n",
        "\n",
        "Histogramas y KDE (Kernel Density Estimate)\n",
        "\n",
        "Ejemplo:"
      ],
      "metadata": {
        "id": "y-JZg4gCM-6o"
      }
    },
    {
      "cell_type": "code",
      "source": [
        "import seaborn as sns\n",
        "import matplotlib.pyplot as plt\n",
        "\n",
        "# Datos\n",
        "data = np.random.normal(0, 1, 1000)\n",
        "\n",
        "# Histograma con KDE\n",
        "sns.histplot(data, kde=True, color='skyblue')\n",
        "plt.title('Distribución Normal')\n",
        "plt.xlabel('Valor')\n",
        "plt.ylabel('Frecuencia')\n",
        "plt.show()\n"
      ],
      "metadata": {
        "id": "UHj4qU6XM91k"
      },
      "execution_count": null,
      "outputs": []
    },
    {
      "cell_type": "markdown",
      "source": [
        "**3.3.2. Gráficos de relación**\n",
        "\n",
        "Gráficos de dispersión y gráficos de líneas\n",
        "\n",
        "Ejemplo:"
      ],
      "metadata": {
        "id": "s7dMvT9INMAi"
      }
    },
    {
      "cell_type": "code",
      "source": [
        "\n",
        "# Datos\n",
        "tips = sns.load_dataset('tips')  # Cargar el conjunto de datos \"tips\" proporcionado por seaborn\n",
        "\n",
        "# Gráfico de dispersión\n",
        "sns.scatterplot(\n",
        "    x='total_bill',                # Usar la columna 'total_bill' para el eje X\n",
        "    y='tip',                       # Usar la columna 'tip' para el eje Y\n",
        "    data=tips,                     # Especificar el conjunto de datos a usar\n",
        "    hue='time',                    # Colorear los puntos según la columna 'time' (almuerzo/cena)\n",
        "    style='smoker',                # Diferenciar por estilo los puntos según la columna 'smoker' (fumador/no fumador)\n",
        "    size='size',                   # Escalar el tamaño de los puntos según la columna 'size' (tamaño del grupo)\n",
        "    palette='cool'                 # Usar la paleta de colores 'cool' para diferenciar los valores de 'time'\n",
        ")\n",
        "\n",
        "# Agregar un título al gráfico\n",
        "plt.title('Relación entre Total de la Cuenta y Propina')  # Título del gráfico\n",
        "\n",
        "# Mostrar el gráfico\n",
        "plt.show()  # Renderizar y mostrar el gráfico en pantalla\n"
      ],
      "metadata": {
        "id": "A-GTL_44NOmo"
      },
      "execution_count": null,
      "outputs": []
    },
    {
      "cell_type": "markdown",
      "source": [
        "**3.3.3. Gráficos categóricos**\n",
        "\n",
        "Box plots, violin plots, swarm plots\n",
        "\n",
        "Ejemplo: Box plot\n"
      ],
      "metadata": {
        "id": "-czw9G9KN7Mb"
      }
    },
    {
      "cell_type": "code",
      "source": [
        "# Box plot\n",
        "sns.boxplot(x='day', y='total_bill', data=tips, hue='sex')\n",
        "plt.title('Total de la Cuenta por Día y Sexo')\n",
        "plt.show()\n"
      ],
      "metadata": {
        "id": "h92POZzCN__Q"
      },
      "execution_count": null,
      "outputs": []
    },
    {
      "cell_type": "markdown",
      "source": [
        "**3.3.4. Gráficos de regresión**\n",
        "\n",
        "Regplot y lmplot\n",
        "\n",
        "Ejemplo:"
      ],
      "metadata": {
        "id": "PJR5-umIOKzd"
      }
    },
    {
      "cell_type": "code",
      "source": [
        "# Regplot\n",
        "sns.regplot(x='total_bill', y='tip', data=tips)\n",
        "plt.title('Regresión Lineal entre Total y Propina')\n",
        "plt.show()\n"
      ],
      "metadata": {
        "id": "VA7TuXm6OODm"
      },
      "execution_count": null,
      "outputs": []
    },
    {
      "cell_type": "markdown",
      "source": [
        "**3.3.5. Gráficos multivariados**\n",
        "\n",
        "Pairplot y Jointplot\n",
        "\n",
        "Ejemplo: Pairplot"
      ],
      "metadata": {
        "id": "sG6dzxXKOSo7"
      }
    },
    {
      "cell_type": "code",
      "source": [
        "# Datos\n",
        "iris = sns.load_dataset('iris')\n",
        "\n",
        "# Pairplot\n",
        "sns.pairplot(iris, hue='species', palette='bright')\n",
        "plt.show()\n"
      ],
      "metadata": {
        "id": "KPmS06lyOWUg"
      },
      "execution_count": null,
      "outputs": []
    },
    {
      "cell_type": "markdown",
      "source": [
        "### 3.4. Personalización avanzada en Seaborn\n",
        "\n",
        "**3.4.1. Ajuste de gráficos con Matplotlib**\n",
        "\n",
        "Puedes utilizar funciones de Matplotlib para personalizar aún más.\n",
        "\n",
        "Ejemplo:"
      ],
      "metadata": {
        "id": "QqRaCT8uOk6l"
      }
    },
    {
      "cell_type": "code",
      "source": [
        "sns.boxplot(x='day', y='total_bill', data=tips)\n",
        "plt.title('Total de la Cuenta por Día')\n",
        "plt.xlabel('Día de la Semana')\n",
        "plt.ylabel('Total de la Cuenta ($)')\n",
        "plt.show()\n"
      ],
      "metadata": {
        "id": "rHq1rPhSOpX9"
      },
      "execution_count": null,
      "outputs": []
    },
    {
      "cell_type": "markdown",
      "source": [
        "**3.4.2. Control de ejes y leyendas**\n",
        "\n",
        "Modificar límites de ejes:\n",
        "\n"
      ],
      "metadata": {
        "id": "S9LO3b58Oqmn"
      }
    },
    {
      "cell_type": "code",
      "source": [
        " plt.xlim(), plt.ylim()"
      ],
      "metadata": {
        "id": "qLR8t9CIOzew"
      },
      "execution_count": null,
      "outputs": []
    },
    {
      "cell_type": "markdown",
      "source": [
        "Personalizar leyendas:"
      ],
      "metadata": {
        "id": "xgar5s2KOxjl"
      }
    },
    {
      "cell_type": "code",
      "source": [
        "plt.legend(title='Título de la Leyenda', loc='upper left')"
      ],
      "metadata": {
        "id": "jJ40sR0dOvfq"
      },
      "execution_count": null,
      "outputs": []
    },
    {
      "cell_type": "markdown",
      "source": [
        "**3.4.3. Añadir anotaciones y textos**\n",
        "\n",
        "Puedes usar plt.annotate() y plt.text() para añadir información adicional."
      ],
      "metadata": {
        "id": "LXpGGvlBO4tw"
      }
    },
    {
      "cell_type": "code",
      "source": [],
      "metadata": {
        "id": "EMry3xg5PCZY"
      },
      "execution_count": null,
      "outputs": []
    },
    {
      "cell_type": "markdown",
      "source": [
        "### 3.5. Ejercicios\n",
        "\n",
        "**Ejercicio 1**\n",
        "\n",
        "Utiliza el dataset tips de Seaborn para crear un gráfico de dispersión que muestre la relación entre total_bill y tip, diferenciando los puntos por género (sex) y usando diferentes colores.\n",
        "\n",
        "- Añade una regresión lineal a los datos.\n",
        "- Personaliza el estilo y la paleta de colores."
      ],
      "metadata": {
        "id": "bKu1yWHHPO4O"
      }
    },
    {
      "cell_type": "code",
      "source": [],
      "metadata": {
        "id": "zGjPKYIYPTmL"
      },
      "execution_count": null,
      "outputs": []
    },
    {
      "cell_type": "markdown",
      "source": [
        "**Ejercicio 2**\n",
        "\n",
        "Con el dataset flights de Seaborn:\n",
        "\n",
        "- Crea un gráfico de calor que muestre el número de pasajeros por mes y año.\n",
        "- Ajusta la paleta de colores para resaltar los meses con mayor número de pasajeros.\n",
        "- Añade etiquetas claras y un título descriptivo."
      ],
      "metadata": {
        "id": "_3EdsDnrPT9g"
      }
    },
    {
      "cell_type": "code",
      "source": [],
      "metadata": {
        "id": "8UCKVlECPZge"
      },
      "execution_count": null,
      "outputs": []
    },
    {
      "cell_type": "markdown",
      "source": [
        "**Ejercicio 3**\n",
        "\n",
        "Usa el dataset iris para:\n",
        "\n",
        "- Crear gráficos de distribución para cada una de las características (sepal_length, sepal_width, petal_length, petal_width).\n",
        "- Comparar las distribuciones entre las diferentes especies.\n",
        "- Utilizar gráficos de violín o cajas según corresponda."
      ],
      "metadata": {
        "id": "WyJiJYw2Pbiz"
      }
    },
    {
      "cell_type": "markdown",
      "source": [
        "## 4. Visualizaciones Avanzadas y Técnicas Especiales"
      ],
      "metadata": {
        "id": "_7WsJNqTPikE"
      }
    },
    {
      "cell_type": "markdown",
      "source": [
        "### 4.1. Gráficos de calor (Heatmaps) y mapas de correlación\n",
        "\n",
        "Los heatmaps son útiles para visualizar matrices, como la matriz de correlación.\n",
        "\n",
        "Ejemplo: Matriz de correlación\n",
        "\n"
      ],
      "metadata": {
        "id": "vYGxwYc4PlFD"
      }
    },
    {
      "cell_type": "code",
      "source": [
        "# Calcular la matriz de correlación\n",
        "corr = iris[['sepal_length', 'sepal_width', 'petal_length', 'petal_width']].corr()\n",
        "\n",
        "# Crear el heatmap de la matriz de correlación\n",
        "plt.figure(figsize=(8, 6))  # Establecer el tamaño de la figura (ancho: 8, alto: 6 pulgadas)\n",
        "sns.heatmap(\n",
        "    corr,                   # Pasar la matriz de correlación como datos para el heatmap\n",
        "    annot=True,             # Mostrar los valores numéricos de la correlación directamente en el heatmap\n",
        "    cmap='coolwarm',        # Usar la paleta de colores 'coolwarm' para destacar correlaciones positivas y negativas\n",
        "    linewidths=0.5          # Establecer el grosor de las líneas que separan las celdas del heatmap\n",
        ")\n",
        "plt.title('Matriz de Correlación del Dataset Iris')  # Agregar un título al gráfico\n",
        "plt.show()  # Mostrar el heatmap en pantalla\n"
      ],
      "metadata": {
        "id": "mH6MPN8pPpKg"
      },
      "execution_count": null,
      "outputs": []
    },
    {
      "cell_type": "markdown",
      "source": [
        "### 4.2. Gráficos de violin y cajas (Violin and Box plots)\n",
        "\n",
        "Combinan la información de un box plot con una estimación de densidad.\n",
        "\n",
        "Ejemplo:"
      ],
      "metadata": {
        "id": "IYpux6vTQMmt"
      }
    },
    {
      "cell_type": "code",
      "source": [
        "# Crear un gráfico de violín\n",
        "sns.violinplot(\n",
        "    x='day',                # Variable categórica para el eje X (días de la semana)\n",
        "    y='total_bill',         # Variable numérica para el eje Y (total de la cuenta)\n",
        "    data=tips,              # Conjunto de datos que contiene las columnas especificadas\n",
        "    hue='sex',              # Dividir los datos por la variable categórica 'sex' (hombre/mujer)\n",
        "    split=True,             # Mostrar las distribuciones de hombres y mujeres en el mismo violín, separados por lados\n",
        "    palette='muted'         # Usar una paleta de colores apagados para diferenciar las categorías de 'sex'\n",
        ")\n",
        "\n",
        "# Agregar un título al gráfico\n",
        "plt.title('Distribución del Total de la Cuenta por Día y Sexo')  # Título descriptivo del gráfico\n",
        "\n",
        "# Mostrar el gráfico\n",
        "plt.show()  # Renderizar y mostrar el gráfico en pantalla\n"
      ],
      "metadata": {
        "id": "LApK8fEPQWWF"
      },
      "execution_count": null,
      "outputs": []
    },
    {
      "cell_type": "markdown",
      "source": [
        "### 4.3. Gráficos de dispersión en 3D y gráficos de superficie\n",
        "\n",
        "Nota: Requieren la biblioteca mpl_toolkits.mplot3d.\n",
        "\n",
        "Ejemplo: Gráfico de dispersión en 3D"
      ],
      "metadata": {
        "id": "o4vzy4sQQfZJ"
      }
    },
    {
      "cell_type": "code",
      "source": [
        "# Importar la herramienta para gráficos en 3D de matplotlib\n",
        "from mpl_toolkits.mplot3d import Axes3D\n",
        "\n",
        "# Generar datos aleatorios\n",
        "x = np.random.rand(100)  # Crear 100 valores aleatorios para el eje X\n",
        "y = np.random.rand(100)  # Crear 100 valores aleatorios para el eje Y\n",
        "z = np.random.rand(100)  # Crear 100 valores aleatorios para el eje Z\n",
        "\n",
        "# Crear la figura para el gráfico\n",
        "fig = plt.figure()  # Crear una figura para contener el gráfico\n",
        "ax = fig.add_subplot(111, projection='3d')  # Agregar un subplot con proyección 3D\n",
        "\n",
        "# Crear el gráfico de dispersión\n",
        "ax.scatter(\n",
        "    x, y, z,        # Coordenadas de los puntos en 3D (ejes X, Y, Z)\n",
        "    c='r',          # Color de los puntos (rojo)\n",
        "    marker='o'      # Forma de los puntos (círculos)\n",
        ")\n",
        "\n",
        "# Configurar etiquetas para cada eje\n",
        "ax.set_xlabel('Eje X')  # Etiqueta para el eje X\n",
        "ax.set_ylabel('Eje Y')  # Etiqueta para el eje Y\n",
        "ax.set_zlabel('Eje Z')  # Etiqueta para el eje Z\n",
        "\n",
        "# Agregar un título al gráfico\n",
        "plt.title('Gráfico de Dispersión en 3D')  # Título descriptivo del gráfico\n",
        "\n",
        "# Mostrar el gráfico en pantalla\n",
        "plt.show()  # Renderizar y mostrar el gráfico\n"
      ],
      "metadata": {
        "id": "lH2OkmnvQhS5"
      },
      "execution_count": null,
      "outputs": []
    },
    {
      "cell_type": "markdown",
      "source": [
        "### 4.4. Visualización de series temporales\n",
        "\n",
        "Matplotlib y Seaborn pueden manejar fechas y tiempos.\n",
        "\n",
        "Ejemplo:"
      ],
      "metadata": {
        "id": "LOb2fXIcQn6Q"
      }
    },
    {
      "cell_type": "code",
      "source": [
        "# Importar bibliotecas necesarias\n",
        "import pandas as pd  # Para manejar datos tabulares y fechas\n",
        "import numpy as np   # Para realizar operaciones matemáticas y trabajar con matrices\n",
        "import matplotlib.pyplot as plt  # Para crear gráficos\n",
        "\n",
        "# Crear datos\n",
        "dates = pd.date_range('20210101', periods=100)  # Generar una serie de 100 fechas consecutivas a partir del 1 de enero de 2021\n",
        "data = np.random.randn(100).cumsum()           # Crear una serie de datos acumulativos a partir de valores aleatorios\n",
        "\n",
        "# Crear el gráfico\n",
        "plt.plot(dates, data)                           # Dibujar una línea que conecta los valores de 'data' a lo largo de las fechas\n",
        "plt.title('Serie Temporal')                     # Establecer el título del gráfico\n",
        "plt.xlabel('Fecha')                             # Etiqueta para el eje X\n",
        "plt.ylabel('Valor Acumulado')                   # Etiqueta para el eje Y\n",
        "plt.xticks(rotation=45, fontsize=10)            # Rotar las etiquetas del eje X 45° y establecer el tamaño de fuente a 10\n",
        "plt.tight_layout()                              # Ajustar automáticamente el diseño para evitar que las etiquetas se solapen\n",
        "plt.show()                                      # Mostrar el gráfico en pantalla\n"
      ],
      "metadata": {
        "id": "VcaB2vukRBTQ"
      },
      "execution_count": null,
      "outputs": []
    },
    {
      "cell_type": "markdown",
      "source": [
        "### 4.6. Ejercicios\n",
        "\n",
        "**Ejercicio 1**\n",
        "\n",
        "Con el dataset diamonds de Seaborn:\n",
        "\n",
        "- Crea una matriz de correlación entre las variables numéricas.\n",
        "- Visualiza la matriz usando un heatmap.\n",
        "- Identifica las variables con mayor correlación positiva y negativa.\n"
      ],
      "metadata": {
        "id": "zD8mzu-XRYmI"
      }
    },
    {
      "cell_type": "code",
      "source": [],
      "metadata": {
        "id": "wN377MyxRcf7"
      },
      "execution_count": null,
      "outputs": []
    },
    {
      "cell_type": "markdown",
      "source": [],
      "metadata": {
        "id": "2qr5GNtgRc25"
      }
    },
    {
      "cell_type": "markdown",
      "source": [
        "**Ejercicio 2**\n",
        "\n",
        "Usando el dataset tips:\n",
        "\n",
        "- Realiza un gráfico de violín para comparar la distribución de las  propinas (tip) entre fumadores y no fumadores (smoker).\n",
        "- Añade un gráfico de caja dentro del gráfico de violín.\n",
        "- Comenta sobre las diferencias observadas."
      ],
      "metadata": {
        "id": "dwZAgtz0ReVP"
      }
    },
    {
      "cell_type": "code",
      "source": [],
      "metadata": {
        "id": "0STQ6T9XRjQ4"
      },
      "execution_count": null,
      "outputs": []
    },
    {
      "cell_type": "markdown",
      "source": [
        "**Ejercicio 3**\n",
        "\n",
        "Con el dataset penguins:\n",
        "\n",
        "- Crea un pairplot para visualizar las relaciones entre las variables numéricas.\n",
        "- Usa diferentes colores para distinguir entre las especies de pingüinos.\n",
        "- Analiza las relaciones y patrones que observas."
      ],
      "metadata": {
        "id": "irqDXv8pRjuY"
      }
    },
    {
      "cell_type": "markdown",
      "source": [
        "---\n",
        "\n",
        "# Gracias por completar este laboratorio!\n",
        "\n",
        "---"
      ],
      "metadata": {
        "id": "EzzN9OmHRwmw"
      }
    }
  ]
}