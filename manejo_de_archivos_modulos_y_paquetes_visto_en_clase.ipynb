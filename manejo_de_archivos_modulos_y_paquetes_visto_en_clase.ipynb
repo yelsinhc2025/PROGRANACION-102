{
  "nbformat": 4,
  "nbformat_minor": 0,
  "metadata": {
    "colab": {
      "provenance": [],
      "include_colab_link": true
    },
    "kernelspec": {
      "name": "python3",
      "display_name": "Python 3"
    },
    "language_info": {
      "name": "python"
    }
  },
  "cells": [
    {
      "cell_type": "markdown",
      "metadata": {
        "id": "view-in-github",
        "colab_type": "text"
      },
      "source": [
        "<a href=\"https://colab.research.google.com/github/yelsinhc2025/PROGRANACION-102/blob/main/manejo_de_archivos_modulos_y_paquetes_visto_en_clase.ipynb\" target=\"_parent\"><img src=\"https://colab.research.google.com/assets/colab-badge.svg\" alt=\"Open In Colab\"/></a>"
      ]
    },
    {
      "cell_type": "markdown",
      "source": [
        "<img src=\"https://posgrado.utec.edu.pe/sites/default/files/2023-08/Testimonial-home-2.jpg\" alt=\"HTML5 Icon\" width=\"900\" height=\"250\" >\n"
      ],
      "metadata": {
        "id": "VpH7sAoVTmos"
      }
    },
    {
      "cell_type": "markdown",
      "source": [
        "# **Funciones y Clases**"
      ],
      "metadata": {
        "id": "Y7FbnZbKTpRn"
      }
    },
    {
      "cell_type": "markdown",
      "source": [
        "**Objetivo**\n",
        "\n",
        "Consolidar los conocimientos sobre funciones y clases en Python, mediante el desarrollo de teoría, ejemplos guiados y ejercicios retadores. Al finalizar, serás capaz de:\n",
        "\n",
        "1. Comprender qué son las funciones, cómo se definen y cómo se utilizan.\n",
        "2. Usar distintos tipos de argumentos (posicionales, por nombre, arbitrarios).\n",
        "3. Retornar valores simples o compuestos desde una función.\n",
        "4. Aplicar funciones sobre listas y modularizar código en módulos.\n",
        "5. Documentar y estructurar funciones siguiendo buenas prácticas de estilo.\n",
        "6. Crear clases, instanciar objetos, y trabajar con atributos y métodos.\n",
        "7. Aplicar principios de herencia y reutilización de código en clases.\n",
        "8. Utilizar la biblioteca estándar de Python y organizar clases en módulos."
      ],
      "metadata": {
        "id": "34pdCtM-T-QQ"
      }
    },
    {
      "cell_type": "markdown",
      "source": [
        "# Funciones"
      ],
      "metadata": {
        "id": "aLMAo_QGWh_5"
      }
    },
    {
      "cell_type": "markdown",
      "source": [
        "## 1. Defining a Function"
      ],
      "metadata": {
        "id": "u5oSkRxxTwLx"
      }
    },
    {
      "cell_type": "markdown",
      "source": [
        "- Las funciones encapsulan código reutilizable.\n",
        "- Se definen usando 'def' seguido de un nombre y paréntesis.\n",
        "- El cuerpo debe estar indentado."
      ],
      "metadata": {
        "id": "rMx8aaViUPkk"
      }
    },
    {
      "cell_type": "markdown",
      "source": [
        "**Ejemplo:**\n"
      ],
      "metadata": {
        "id": "dHTMVPmOUSIV"
      }
    },
    {
      "cell_type": "code",
      "execution_count": null,
      "metadata": {
        "id": "ONvTKb-GThia"
      },
      "outputs": [],
      "source": [
        "def saludar():\n",
        "    print(\"Bienvenido al laboratorio de funciones.\")"
      ]
    },
    {
      "cell_type": "code",
      "source": [
        "type(saludar)"
      ],
      "metadata": {
        "colab": {
          "base_uri": "https://localhost:8080/"
        },
        "id": "AviPiXCQdxei",
        "outputId": "4f363041-0440-4855-acae-fe8060c2616e"
      },
      "execution_count": null,
      "outputs": [
        {
          "output_type": "execute_result",
          "data": {
            "text/plain": [
              "function"
            ]
          },
          "metadata": {},
          "execution_count": 2
        }
      ]
    },
    {
      "cell_type": "code",
      "source": [
        "saludar()"
      ],
      "metadata": {
        "colab": {
          "base_uri": "https://localhost:8080/"
        },
        "id": "eIE3c2_cd1xQ",
        "outputId": "50265c1b-19e1-4f4d-faaf-304cf21c5ea2"
      },
      "execution_count": null,
      "outputs": [
        {
          "output_type": "stream",
          "name": "stdout",
          "text": [
            "Bienvenido al laboratorio de funciones.\n"
          ]
        }
      ]
    },
    {
      "cell_type": "markdown",
      "source": [
        "**Ejercicios:**\n",
        "\n",
        "1. Crea una función 'mostrar_menu()' que imprima un menú con 3 opciones.\n",
        "\n",
        "2. Define una función 'mensaje_diario()' que imprima una frase aleatoria de motivación.\n",
        "\n",
        "3. Crea una función 'borde_decorativo()' que imprima una cadena rodeada de asteriscos."
      ],
      "metadata": {
        "id": "JIvRAXycUX7u"
      }
    },
    {
      "cell_type": "code",
      "source": [],
      "metadata": {
        "id": "M6EZHQLLUl0t"
      },
      "execution_count": null,
      "outputs": []
    },
    {
      "cell_type": "markdown",
      "source": [
        "## 2. Passing Arguments"
      ],
      "metadata": {
        "id": "wMZPUnXIUljj"
      }
    },
    {
      "cell_type": "markdown",
      "source": [
        "- Puedes pasar información a las funciones mediante parámetros.\n",
        "- Argumentos posicionales: el orden importa.\n",
        "- Argumentos por nombre (keyword arguments): más claros y seguros."
      ],
      "metadata": {
        "id": "gqKGi2gtUp_O"
      }
    },
    {
      "cell_type": "markdown",
      "source": [
        "**Ejemplo:**"
      ],
      "metadata": {
        "id": "gJ9SfvF8Ur7M"
      }
    },
    {
      "cell_type": "code",
      "source": [
        "def presentar(nombre, edad):\n",
        "    if type(edad) == int:\n",
        "        print(f\"Hola, soy {nombre} y tengo {edad} años.\")\n",
        "    else:\n",
        "        print('la edad debe ser un número!')"
      ],
      "metadata": {
        "id": "L6a58TgAUtFJ"
      },
      "execution_count": null,
      "outputs": []
    },
    {
      "cell_type": "code",
      "source": [
        "presentar('John', 33)"
      ],
      "metadata": {
        "colab": {
          "base_uri": "https://localhost:8080/"
        },
        "id": "1s0IfCXJeFzT",
        "outputId": "394e4885-7e3c-4b21-ddc7-f87831c13592"
      },
      "execution_count": null,
      "outputs": [
        {
          "output_type": "stream",
          "name": "stdout",
          "text": [
            "Hola, soy John y tengo 33 años.\n"
          ]
        }
      ]
    },
    {
      "cell_type": "code",
      "source": [
        "presentar(33, 'John')"
      ],
      "metadata": {
        "colab": {
          "base_uri": "https://localhost:8080/"
        },
        "id": "rG74XVh8eXPz",
        "outputId": "20992bdc-3c4f-4e48-cf12-a148aeb90394"
      },
      "execution_count": null,
      "outputs": [
        {
          "output_type": "stream",
          "name": "stdout",
          "text": [
            "Hola, soy 33 y tengo John años.\n"
          ]
        }
      ]
    },
    {
      "cell_type": "code",
      "source": [
        "presentar(edad = 20, nombre = 'John')"
      ],
      "metadata": {
        "colab": {
          "base_uri": "https://localhost:8080/"
        },
        "id": "vK-n-axoebvx",
        "outputId": "47a37fb2-76fb-468f-8c7e-0b907a11634a"
      },
      "execution_count": null,
      "outputs": [
        {
          "output_type": "stream",
          "name": "stdout",
          "text": [
            "Hola, soy John y tengo 20 años.\n"
          ]
        }
      ]
    },
    {
      "cell_type": "markdown",
      "source": [
        "**Ejercicios:**\n",
        "\n",
        "1. Define 'calcular_impuesto(monto, tasa)' que retorne el impuesto total.\n",
        "\n",
        "2. Crea 'evaluar_puntaje(nombre, puntaje)' que imprima si aprueba (>=12) o no.\n",
        "\n",
        "3. Escribe 'detallar_producto(nombre, precio, stock)' que imprima un resumen."
      ],
      "metadata": {
        "id": "vyHEcaizVBi7"
      }
    },
    {
      "cell_type": "code",
      "source": [
        "\n",
        "def calcular_impuesto(monto, tasa):\n",
        "  '''Esta función calcula el monto que se debe pagar de interés del crédito\n",
        "  los principales argumentos son:\n",
        "  - monto: el monto prestado\n",
        "  - tasa: la tasa de préstamo determinada por el banco'''\n",
        "  print(monto*tasa)\n"
      ],
      "metadata": {
        "id": "vlOv7cpSVOCO"
      },
      "execution_count": null,
      "outputs": []
    },
    {
      "cell_type": "code",
      "source": [
        "calcular_impuesto(10, 3)"
      ],
      "metadata": {
        "colab": {
          "base_uri": "https://localhost:8080/"
        },
        "id": "7hIFrUVzgn3b",
        "outputId": "dc2d151a-170e-4f77-ff6e-440142b26802"
      },
      "execution_count": null,
      "outputs": [
        {
          "output_type": "stream",
          "name": "stdout",
          "text": [
            "<class 'int'>\n",
            "30\n"
          ]
        }
      ]
    },
    {
      "cell_type": "code",
      "source": [
        "calcular_impuesto?"
      ],
      "metadata": {
        "id": "Bj5TCDlOhMXA"
      },
      "execution_count": null,
      "outputs": []
    },
    {
      "cell_type": "code",
      "source": [
        "import xgboost as xgb"
      ],
      "metadata": {
        "id": "PNT6K_5riWVT"
      },
      "execution_count": null,
      "outputs": []
    },
    {
      "cell_type": "code",
      "source": [
        "xgb?"
      ],
      "metadata": {
        "id": "eh8-amJmioIm"
      },
      "execution_count": null,
      "outputs": []
    },
    {
      "cell_type": "code",
      "source": [
        "from sklearn.model_selection import train_test_split\n",
        "\n"
      ],
      "metadata": {
        "id": "W8CWuc0HjBP4"
      },
      "execution_count": null,
      "outputs": []
    },
    {
      "cell_type": "code",
      "source": [
        "train_test_split?"
      ],
      "metadata": {
        "id": "dvZxmCRqjGt-"
      },
      "execution_count": null,
      "outputs": []
    },
    {
      "cell_type": "markdown",
      "source": [
        "## 3. Return Values"
      ],
      "metadata": {
        "id": "fyNSml7GVP1Y"
      }
    },
    {
      "cell_type": "markdown",
      "source": [
        "- Las funciones pueden devolver valores con 'return'.\n",
        "- Es útil para guardar o reutilizar resultados."
      ],
      "metadata": {
        "id": "VkdpHBVfVTH1"
      }
    },
    {
      "cell_type": "code",
      "source": [
        "def calcular_impuesto(monto, tasa):\n",
        "  print(monto*tasa)\n",
        "\n",
        "pago = calcular_impuesto(10, 5)"
      ],
      "metadata": {
        "colab": {
          "base_uri": "https://localhost:8080/"
        },
        "id": "B_o5_fB7jXpV",
        "outputId": "acd353a3-2979-4375-9923-4e83e1d56bbe"
      },
      "execution_count": null,
      "outputs": [
        {
          "output_type": "stream",
          "name": "stdout",
          "text": [
            "50\n"
          ]
        }
      ]
    },
    {
      "cell_type": "code",
      "source": [
        "pago"
      ],
      "metadata": {
        "id": "8vmLLT4TkCSf"
      },
      "execution_count": null,
      "outputs": []
    },
    {
      "cell_type": "code",
      "source": [
        "def calcular_impuesto(monto, tasa):\n",
        "  return monto*tasa, monto, tasa\n",
        "\n",
        "x, y, z = calcular_impuesto(10, 5)"
      ],
      "metadata": {
        "id": "pFSzzp3ujZlF"
      },
      "execution_count": null,
      "outputs": []
    },
    {
      "cell_type": "code",
      "source": [
        "x"
      ],
      "metadata": {
        "colab": {
          "base_uri": "https://localhost:8080/"
        },
        "id": "QsNA5UmSkLnc",
        "outputId": "f43052b2-d787-4f28-a88c-5ce29d969b00"
      },
      "execution_count": null,
      "outputs": [
        {
          "output_type": "execute_result",
          "data": {
            "text/plain": [
              "50"
            ]
          },
          "metadata": {},
          "execution_count": 52
        }
      ]
    },
    {
      "cell_type": "code",
      "source": [
        "y"
      ],
      "metadata": {
        "colab": {
          "base_uri": "https://localhost:8080/"
        },
        "id": "Os8ggFJmkmzV",
        "outputId": "44dd6be2-7cb8-40da-b259-8401d09c1de9"
      },
      "execution_count": null,
      "outputs": [
        {
          "output_type": "execute_result",
          "data": {
            "text/plain": [
              "10"
            ]
          },
          "metadata": {},
          "execution_count": 53
        }
      ]
    },
    {
      "cell_type": "code",
      "source": [
        "z"
      ],
      "metadata": {
        "colab": {
          "base_uri": "https://localhost:8080/"
        },
        "id": "aXiMn5K4kn_c",
        "outputId": "7ca1db2a-3dd0-4bcd-e07c-15b64eafa282"
      },
      "execution_count": null,
      "outputs": [
        {
          "output_type": "execute_result",
          "data": {
            "text/plain": [
              "5"
            ]
          },
          "metadata": {},
          "execution_count": 54
        }
      ]
    },
    {
      "cell_type": "markdown",
      "source": [
        "**Ejemplo:**\n"
      ],
      "metadata": {
        "id": "4xZ4orNzVVBT"
      }
    },
    {
      "cell_type": "code",
      "source": [
        "def cuadrado(numero):\n",
        "    return numero ** 2"
      ],
      "metadata": {
        "id": "-bVDPbECVWaa"
      },
      "execution_count": null,
      "outputs": []
    },
    {
      "cell_type": "markdown",
      "source": [
        "**Ejercicios:**\n",
        "\n",
        "1. 'diferencia_absoluta(a, b)' que retorne el valor absoluto de su diferencia.\n",
        "\n",
        "2. 'comparar_cadenas(cad1, cad2)' que retorne True si tienen la misma longitud.\n",
        "\n",
        "3. 'es_primo(n)' que retorne True si el número es primo."
      ],
      "metadata": {
        "id": "tlMLYSgJVZ0b"
      }
    },
    {
      "cell_type": "code",
      "source": [
        "def diferencia_absoluta(a, b):\n",
        "  diferencia = a - b\n",
        "  if diferencia < 0:\n",
        "    return -diferencia\n",
        "  else:\n",
        "    return diferencia\n"
      ],
      "metadata": {
        "id": "jwdBX6VeVhVL"
      },
      "execution_count": null,
      "outputs": []
    },
    {
      "cell_type": "code",
      "source": [
        "def comparar_cadenas(cad1, cad2):\n",
        "  return len(cad1) == len(cad2)"
      ],
      "metadata": {
        "id": "AYCo4LYnm0s4"
      },
      "execution_count": null,
      "outputs": []
    },
    {
      "cell_type": "code",
      "source": [
        "def es_primo(n):\n",
        "  for i in range(2, round(n**0.5 + 1)):\n",
        "    if n % i == 0:\n",
        "      return False\n",
        "  return True"
      ],
      "metadata": {
        "id": "TUdJda9XnNxG"
      },
      "execution_count": null,
      "outputs": []
    },
    {
      "cell_type": "code",
      "source": [],
      "metadata": {
        "id": "3a0N7Bfm5BJl"
      },
      "execution_count": null,
      "outputs": []
    },
    {
      "cell_type": "code",
      "source": [
        "def val(n):\n",
        "  for _ in range(9):\n",
        "    return n\n",
        "    n+=1\n"
      ],
      "metadata": {
        "id": "48slaYT5pfsE"
      },
      "execution_count": null,
      "outputs": []
    },
    {
      "cell_type": "code",
      "source": [
        "val(15)"
      ],
      "metadata": {
        "colab": {
          "base_uri": "https://localhost:8080/"
        },
        "id": "MBB-ifkNppFc",
        "outputId": "9cec19cf-883a-47c4-cc3e-083418c5347a"
      },
      "execution_count": null,
      "outputs": [
        {
          "output_type": "execute_result",
          "data": {
            "text/plain": [
              "15"
            ]
          },
          "metadata": {},
          "execution_count": 83
        }
      ]
    },
    {
      "cell_type": "code",
      "source": [
        "for i in range(2, 100):\n",
        "  print(i, es_primo(i))"
      ],
      "metadata": {
        "colab": {
          "base_uri": "https://localhost:8080/"
        },
        "id": "l68IRLG7obfX",
        "outputId": "18e885a4-7d8f-46f9-91ce-fba5a78a868a"
      },
      "execution_count": null,
      "outputs": [
        {
          "output_type": "stream",
          "name": "stdout",
          "text": [
            "2 True\n",
            "3 True\n",
            "4 False\n",
            "5 True\n",
            "6 False\n",
            "7 True\n",
            "8 False\n",
            "9 False\n",
            "10 False\n",
            "11 True\n",
            "12 False\n",
            "13 True\n",
            "14 False\n",
            "15 False\n",
            "16 False\n",
            "17 True\n",
            "18 False\n",
            "19 True\n",
            "20 False\n",
            "21 False\n",
            "22 False\n",
            "23 True\n",
            "24 False\n",
            "25 False\n",
            "26 False\n",
            "27 False\n",
            "28 False\n",
            "29 True\n",
            "30 False\n",
            "31 True\n",
            "32 False\n",
            "33 False\n",
            "34 False\n",
            "35 False\n",
            "36 False\n",
            "37 True\n",
            "38 False\n",
            "39 False\n",
            "40 False\n",
            "41 True\n",
            "42 False\n",
            "43 True\n",
            "44 False\n",
            "45 False\n",
            "46 False\n",
            "47 True\n",
            "48 False\n",
            "49 False\n",
            "50 False\n",
            "51 False\n",
            "52 False\n",
            "53 True\n",
            "54 False\n",
            "55 False\n",
            "56 False\n",
            "57 False\n",
            "58 False\n",
            "59 True\n",
            "60 False\n",
            "61 True\n",
            "62 False\n",
            "63 False\n",
            "64 False\n",
            "65 False\n",
            "66 False\n",
            "67 True\n",
            "68 False\n",
            "69 False\n",
            "70 False\n",
            "71 True\n",
            "72 False\n",
            "73 True\n",
            "74 False\n",
            "75 False\n",
            "76 False\n",
            "77 False\n",
            "78 False\n",
            "79 True\n",
            "80 False\n",
            "81 False\n",
            "82 False\n",
            "83 True\n",
            "84 False\n",
            "85 False\n",
            "86 False\n",
            "87 False\n",
            "88 False\n",
            "89 True\n",
            "90 False\n",
            "91 False\n",
            "92 False\n",
            "93 False\n",
            "94 False\n",
            "95 False\n",
            "96 False\n",
            "97 True\n",
            "98 False\n",
            "99 False\n"
          ]
        }
      ]
    },
    {
      "cell_type": "markdown",
      "source": [
        "## 4. Passing a List"
      ],
      "metadata": {
        "id": "pltHrWQ9Vg8k"
      }
    },
    {
      "cell_type": "markdown",
      "source": [
        "- Las funciones pueden recibir listas para iterar, modificar o procesar.\n"
      ],
      "metadata": {
        "id": "jtrh3ce9Vjze"
      }
    },
    {
      "cell_type": "markdown",
      "source": [
        "**Ejemplo:**"
      ],
      "metadata": {
        "id": "uqslCsi8VnkE"
      }
    },
    {
      "cell_type": "code",
      "source": [
        "def imprimir_nombres(lista):\n",
        "    for nombre in lista:\n",
        "        print(f\"- {nombre}\")"
      ],
      "metadata": {
        "id": "quUt25oSVmwn"
      },
      "execution_count": null,
      "outputs": []
    },
    {
      "cell_type": "markdown",
      "source": [
        "**Ejercicios:**\n",
        "\n",
        "1. 'invertir_lista(lista)' que retorne la lista invertida.\n",
        "\n",
        "2. 'sumar_pares(lista)' que sume solo los números pares.\n",
        "\n",
        "3. 'normalizar_textos(lista)' que convierta todo texto a minúsculas y sin espacios."
      ],
      "metadata": {
        "id": "IsvUCmvvVrAh"
      }
    },
    {
      "cell_type": "code",
      "source": [
        "def invertir_lista(lista):\n",
        "  return lista[::-1]\n",
        "\n",
        "invertir_lista([1, 2, 3, 4, 5])"
      ],
      "metadata": {
        "colab": {
          "base_uri": "https://localhost:8080/"
        },
        "id": "WWSDMT6qq336",
        "outputId": "30290f9c-20f0-4334-fce1-af6567a85dc8"
      },
      "execution_count": null,
      "outputs": [
        {
          "output_type": "execute_result",
          "data": {
            "text/plain": [
              "[5, 4, 3, 2, 1]"
            ]
          },
          "metadata": {},
          "execution_count": 100
        }
      ]
    },
    {
      "cell_type": "code",
      "source": [
        "def sumar_pares(lista):\n",
        "  return sum([x for x in lista if x%2 == 0])\n",
        "\n",
        "sumar_pares([2, 3, 4, 5, 6])"
      ],
      "metadata": {
        "colab": {
          "base_uri": "https://localhost:8080/"
        },
        "id": "SJ_YVG31soYK",
        "outputId": "5ab8137f-465d-4ad8-a8f0-3f50b7b4b46d"
      },
      "execution_count": null,
      "outputs": [
        {
          "output_type": "execute_result",
          "data": {
            "text/plain": [
              "12"
            ]
          },
          "metadata": {},
          "execution_count": 102
        }
      ]
    },
    {
      "cell_type": "code",
      "source": [
        "def normalizar_textos(lista):\n",
        "  return [x.lower().replace(\" \", \"\") for x in lista]\n",
        "\n",
        "normalizar_textos(['HOLA ', 'HolIIII      ',  '  ALOOO'])"
      ],
      "metadata": {
        "colab": {
          "base_uri": "https://localhost:8080/"
        },
        "id": "7gEqeDU-t2lF",
        "outputId": "134eebed-0273-49ac-a814-b8b6b4fb3e90"
      },
      "execution_count": null,
      "outputs": [
        {
          "output_type": "execute_result",
          "data": {
            "text/plain": [
              "['hola', 'holiiii', 'alooo']"
            ]
          },
          "metadata": {},
          "execution_count": 103
        }
      ]
    },
    {
      "cell_type": "markdown",
      "source": [
        "## 5. Passing Arbitrary Number of Arguments\n"
      ],
      "metadata": {
        "id": "d8BRZt95VyWp"
      }
    },
    {
      "cell_type": "markdown",
      "source": [
        "- *args permite recibir cualquier número de argumentos posicionales.\n",
        "- **kwargs permite recibir pares clave-valor (keyword args)."
      ],
      "metadata": {
        "id": "kKvjnskFV09D"
      }
    },
    {
      "cell_type": "markdown",
      "source": [
        "**Ejemplo:**"
      ],
      "metadata": {
        "id": "1OUZd86jV3Bd"
      }
    },
    {
      "cell_type": "code",
      "source": [
        "def sumar_todo(*numeros):\n",
        "    return sum(numeros)"
      ],
      "metadata": {
        "id": "vDW2boqYV4Wo"
      },
      "execution_count": null,
      "outputs": []
    },
    {
      "cell_type": "code",
      "source": [
        "sumar_todo(1, 2, 3)"
      ],
      "metadata": {
        "colab": {
          "base_uri": "https://localhost:8080/"
        },
        "id": "hB5k0DYczZYF",
        "outputId": "b90b0490-9017-4d7a-f507-db0b65b824fc"
      },
      "execution_count": null,
      "outputs": [
        {
          "output_type": "execute_result",
          "data": {
            "text/plain": [
              "6"
            ]
          },
          "metadata": {},
          "execution_count": 105
        }
      ]
    },
    {
      "cell_type": "code",
      "source": [
        "sumar_todo(1, 2, 3, 5, 6, 7)"
      ],
      "metadata": {
        "colab": {
          "base_uri": "https://localhost:8080/"
        },
        "id": "LT4ecM-Wzcg9",
        "outputId": "8ecd38c9-fed6-4386-962e-4391e0f4974d"
      },
      "execution_count": null,
      "outputs": [
        {
          "output_type": "execute_result",
          "data": {
            "text/plain": [
              "24"
            ]
          },
          "metadata": {},
          "execution_count": 106
        }
      ]
    },
    {
      "cell_type": "code",
      "source": [
        "sumar_todo(1)"
      ],
      "metadata": {
        "colab": {
          "base_uri": "https://localhost:8080/"
        },
        "id": "TXGCdZtFzfTv",
        "outputId": "f7d4e7df-5e83-44b4-f338-f0fce6106cf7"
      },
      "execution_count": null,
      "outputs": [
        {
          "output_type": "execute_result",
          "data": {
            "text/plain": [
              "1"
            ]
          },
          "metadata": {},
          "execution_count": 107
        }
      ]
    },
    {
      "cell_type": "code",
      "source": [
        "def data_info(**kwargs):\n",
        "    return kwargs['nombre']"
      ],
      "metadata": {
        "id": "qq4R69iXz6by"
      },
      "execution_count": null,
      "outputs": []
    },
    {
      "cell_type": "code",
      "source": [
        "data_info(nombre = 'John', edad = 33, profesion = 'Ingeniero', lenguaje = 'Python')"
      ],
      "metadata": {
        "colab": {
          "base_uri": "https://localhost:8080/",
          "height": 36
        },
        "id": "RcHioIig0C7H",
        "outputId": "2ea9933f-030e-4a73-809c-c668d9ac3d36"
      },
      "execution_count": null,
      "outputs": [
        {
          "output_type": "execute_result",
          "data": {
            "text/plain": [
              "'John'"
            ],
            "application/vnd.google.colaboratory.intrinsic+json": {
              "type": "string"
            }
          },
          "metadata": {},
          "execution_count": 115
        }
      ]
    },
    {
      "cell_type": "markdown",
      "source": [
        "**Ejercicios:**\n",
        "\n",
        "1. 'registrar_evento(nombre, *participantes)' que imprima el evento y los asistentes.\n",
        "\n",
        "2. 'generar_reporte(**datos)' que imprima claves y valores con formato.\n",
        "\n",
        "3. 'concatenar_textos(*cadenas)' que retorne el texto unificado, separado por guiones."
      ],
      "metadata": {
        "id": "_mXSkDMEV8UN"
      }
    },
    {
      "cell_type": "code",
      "source": [
        "\n",
        "def registrar_evento(nombre, *participantes):\n",
        "  print(nombre)\n",
        "  print('Participantes:')\n",
        "  for participante in participantes:\n",
        "    print(f'\\t - {participante}')\n",
        "\n",
        "registrar_evento('Congreso de estadística', 'Herles', 'Raul', 'Cesar', 'Winston')"
      ],
      "metadata": {
        "colab": {
          "base_uri": "https://localhost:8080/"
        },
        "id": "aKkaSEnfWAWR",
        "outputId": "7b18e68f-e921-477a-dc13-082c0ab61040"
      },
      "execution_count": null,
      "outputs": [
        {
          "output_type": "stream",
          "name": "stdout",
          "text": [
            "Congreso de estadística\n",
            "Participantes:\n",
            "\t - Herles\n",
            "\t - Raul\n",
            "\t - Cesar\n",
            "\t - Winston\n"
          ]
        }
      ]
    },
    {
      "cell_type": "code",
      "source": [
        "def generar_reporte(**datos):\n",
        "  for clave, valor in datos.items():\n",
        "    print(f'{clave}: {valor}')\n",
        "\n",
        "generar_reporte(nombre = 'John', edad = 33, profesion = 'Ingeniero', lenguaje = 'Python')"
      ],
      "metadata": {
        "colab": {
          "base_uri": "https://localhost:8080/"
        },
        "id": "tG38LLL14Isa",
        "outputId": "a364be10-b467-4fc2-ed21-57bc810e45ec"
      },
      "execution_count": null,
      "outputs": [
        {
          "output_type": "stream",
          "name": "stdout",
          "text": [
            "nombre: John\n",
            "edad: 33\n",
            "profesion: Ingeniero\n",
            "lenguaje: Python\n"
          ]
        }
      ]
    },
    {
      "cell_type": "code",
      "source": [
        "\n",
        "def concatenar_textos(*cadenas):\n",
        "    return '-'.join(cadenas)\n",
        "\n",
        "concatenar_textos('bienvenidos', 'al', 'curso','de','Python')"
      ],
      "metadata": {
        "colab": {
          "base_uri": "https://localhost:8080/",
          "height": 36
        },
        "id": "gY4WSf1D4TvE",
        "outputId": "e47414d5-0c8c-4240-f5d6-01d52e5775e7"
      },
      "execution_count": null,
      "outputs": [
        {
          "output_type": "execute_result",
          "data": {
            "text/plain": [
              "'bienvenidos-al-curso-de-Python'"
            ],
            "application/vnd.google.colaboratory.intrinsic+json": {
              "type": "string"
            }
          },
          "metadata": {},
          "execution_count": 125
        }
      ]
    },
    {
      "cell_type": "markdown",
      "source": [
        "## 6. Storing Functions in Modules"
      ],
      "metadata": {
        "id": "jtSzw0j4WDO1"
      }
    },
    {
      "cell_type": "markdown",
      "source": [
        "- Guardar funciones en archivos .py permite modularidad y reutilización.\n",
        "- Luego se importa el archivo usando 'import'."
      ],
      "metadata": {
        "id": "x92n04kVWFvb"
      }
    },
    {
      "cell_type": "markdown",
      "source": [
        "**Ejemplo (módulo: utilidades.py):**"
      ],
      "metadata": {
        "id": "m0OytKHeWKpG"
      }
    },
    {
      "cell_type": "code",
      "source": [
        "# def saludar():\n",
        "#     print(\"Hola desde utilidades\")\n",
        "#\n",
        "# En main.py:\n",
        "# import utilidades\n",
        "# utilidades.saludar()"
      ],
      "metadata": {
        "id": "TvpqNFZrWIql"
      },
      "execution_count": null,
      "outputs": []
    },
    {
      "cell_type": "code",
      "source": [
        "from auxFuns import es_primo"
      ],
      "metadata": {
        "id": "Oc6kduJr5glb"
      },
      "execution_count": null,
      "outputs": []
    },
    {
      "cell_type": "code",
      "source": [
        "es_primo(23)"
      ],
      "metadata": {
        "colab": {
          "base_uri": "https://localhost:8080/"
        },
        "id": "xW9Z7Yqv5Ssx",
        "outputId": "499368b8-4f31-4678-af17-2247b363f299"
      },
      "execution_count": null,
      "outputs": [
        {
          "output_type": "execute_result",
          "data": {
            "text/plain": [
              "True"
            ]
          },
          "metadata": {},
          "execution_count": 6
        }
      ]
    },
    {
      "cell_type": "code",
      "source": [
        "from auxFuns import *"
      ],
      "metadata": {
        "id": "JxvhtXXQ5wAF"
      },
      "execution_count": null,
      "outputs": []
    },
    {
      "cell_type": "code",
      "source": [
        "import sample_data.auxFuns2"
      ],
      "metadata": {
        "id": "iR-sXomw50LV"
      },
      "execution_count": null,
      "outputs": []
    },
    {
      "cell_type": "markdown",
      "source": [
        "**Ejercicios:**\n",
        "\n",
        "1. Crea un módulo 'texto_utils.py' con funciones para contar palabras, quitar tildes y convertir a minúsculas.\n",
        "\n",
        "2. Crea un módulo 'calculadora.py' con funciones básicas y una función especial: factorial.\n",
        "\n",
        "3. Importa y usa ambos módulos en un script principal."
      ],
      "metadata": {
        "id": "x8q9ucUCWP0Q"
      }
    },
    {
      "cell_type": "code",
      "source": [],
      "metadata": {
        "id": "85vCyvMOWOsT"
      },
      "execution_count": null,
      "outputs": []
    },
    {
      "cell_type": "markdown",
      "source": [
        "# Clases"
      ],
      "metadata": {
        "id": "7l-hr6DcWgdN"
      }
    },
    {
      "cell_type": "markdown",
      "source": [
        "## 1. Creating and Using a Class"
      ],
      "metadata": {
        "id": "9Sl8DOmmXMaw"
      }
    },
    {
      "cell_type": "markdown",
      "source": [
        "- Las clases son plantillas para crear objetos.\n",
        "- Usan __init__() para inicializar atributos."
      ],
      "metadata": {
        "id": "PnfwiJaaXOqM"
      }
    },
    {
      "cell_type": "markdown",
      "source": [
        "**Ejemplo:**\n"
      ],
      "metadata": {
        "id": "E1P_UQ6YXQhz"
      }
    },
    {
      "cell_type": "code",
      "source": [
        "class Persona:\n",
        "    def __init__(self, nombre, edad):\n",
        "        self.nombre = nombre\n",
        "        self.edad = edad\n",
        "\n",
        "    def saludar(self):\n",
        "        print(f\"Hola, soy {self.nombre}.\")"
      ],
      "metadata": {
        "id": "FxZIxKxXXTbu"
      },
      "execution_count": null,
      "outputs": []
    },
    {
      "cell_type": "markdown",
      "source": [
        "**Ejercicios:**\n",
        "\n",
        "1. Crea la clase 'Libro' con atributos titulo, autor y año.\n",
        "\n",
        "2. Crea 'CuentaBancaria' con saldo inicial y métodos para depositar y retirar.\n",
        "\n",
        "3. Define 'Pelicula' con método 'resumen()' que imprima una sinopsis."
      ],
      "metadata": {
        "id": "ylthqvSRXVtQ"
      }
    },
    {
      "cell_type": "code",
      "source": [
        "\n",
        "class Libro:\n",
        "  def __init__(self, titulo, autor, año):\n",
        "    self.titulo = titulo\n",
        "    self.autor = autor\n",
        "    self.año = año\n",
        "\n",
        "  def resumen(self):\n",
        "    print(f'El libro {self.titulo} fue escrito por {self.autor} en el año {self.año}')\n"
      ],
      "metadata": {
        "id": "C_tqThPaXasA"
      },
      "execution_count": null,
      "outputs": []
    },
    {
      "cell_type": "code",
      "source": [
        "Libro('Harry Potter', 'JK Rowling', 1997).resumen()"
      ],
      "metadata": {
        "colab": {
          "base_uri": "https://localhost:8080/"
        },
        "id": "7zsFXBPC-eLP",
        "outputId": "3421c62f-a153-4ffe-cd8e-ce767cac8ca4"
      },
      "execution_count": null,
      "outputs": [
        {
          "output_type": "stream",
          "name": "stdout",
          "text": [
            "El libro Harry Potter fue escrito por JK Rowling en el año 1997\n"
          ]
        }
      ]
    },
    {
      "cell_type": "code",
      "source": [
        "libro = Libro('Harry Potter', 'JK Rowling', 1997)\n",
        "libro.resumen()"
      ],
      "metadata": {
        "colab": {
          "base_uri": "https://localhost:8080/"
        },
        "id": "1fvMI2G-AdHO",
        "outputId": "a74d3fb9-9177-48e5-8687-eefbd18bfd2b"
      },
      "execution_count": null,
      "outputs": [
        {
          "output_type": "stream",
          "name": "stdout",
          "text": [
            "El libro Harry Potter fue escrito por JK Rowling en el año 1997\n"
          ]
        }
      ]
    },
    {
      "cell_type": "markdown",
      "source": [
        "## 2. Working with Classes and Instances"
      ],
      "metadata": {
        "id": "mtIfxNHdXbnl"
      }
    },
    {
      "cell_type": "markdown",
      "source": [
        "- Cada objeto instanciado es independiente.\n",
        "- Puedes modificar atributos directamente o con métodos."
      ],
      "metadata": {
        "id": "L16QES7wXeqt"
      }
    },
    {
      "cell_type": "markdown",
      "source": [
        "**Ejemplo:**\n"
      ],
      "metadata": {
        "id": "8OxEe0U2XhhR"
      }
    },
    {
      "cell_type": "code",
      "source": [
        "juan = Persona(\"Juan\", 28)\n",
        "juan.saludar()"
      ],
      "metadata": {
        "id": "Wv8s90KeXjsA"
      },
      "execution_count": null,
      "outputs": []
    },
    {
      "cell_type": "markdown",
      "source": [
        "**Ejercicios:**\n",
        "\n",
        "1. Crea múltiples instancias de una clase 'Jugador' y cámbiales puntaje.\n",
        "\n",
        "2. Añade un método 'actualizar_email' a una clase 'Usuario'.\n",
        "\n",
        "3. Añade método 'subir_nivel()' que incremente un atributo nivel."
      ],
      "metadata": {
        "id": "tcnWv2HXXkPZ"
      }
    },
    {
      "cell_type": "code",
      "source": [],
      "metadata": {
        "id": "5sRPt7_5Xq4C"
      },
      "execution_count": null,
      "outputs": []
    },
    {
      "cell_type": "markdown",
      "source": [
        "## 3. Inheritance"
      ],
      "metadata": {
        "id": "oIg5A5egXrPJ"
      }
    },
    {
      "cell_type": "markdown",
      "source": [
        "- Las clases pueden heredar atributos y métodos de otras.\n",
        "- La subclase puede extender o sobreescribir métodos."
      ],
      "metadata": {
        "id": "Cz1HHIqBXt9b"
      }
    },
    {
      "cell_type": "markdown",
      "source": [
        "**Ejemplo:**"
      ],
      "metadata": {
        "id": "5-m40bQOXwaI"
      }
    },
    {
      "cell_type": "code",
      "source": [
        "class Animal:\n",
        "    def __init__(self, especie):\n",
        "        self.especie = especie\n",
        "\n",
        "    def hablar(self):\n",
        "        print(\"Este animal hace un sonido\")\n",
        "\n",
        "class Perro(Animal):\n",
        "    def hablar(self):\n",
        "        print(\"Guau\")"
      ],
      "metadata": {
        "id": "5EPTKxOsXukH"
      },
      "execution_count": null,
      "outputs": []
    },
    {
      "cell_type": "markdown",
      "source": [
        "**Ejercicios:**\n",
        "\n",
        "1. Crea 'Empleado' y 'Gerente' que herede e incluya equipo a cargo.\n",
        "\n",
        "2. Crea 'Vehiculo' y subclases 'Auto', 'Moto', con métodos específicos.\n",
        "\n",
        "3. 'Cuenta' y subclases 'CuentaAhorro', 'CuentaCorriente' con comisiones."
      ],
      "metadata": {
        "id": "zuD1o50LX2ao"
      }
    },
    {
      "cell_type": "code",
      "source": [],
      "metadata": {
        "id": "qx2aPbmQX54_"
      },
      "execution_count": null,
      "outputs": []
    },
    {
      "cell_type": "markdown",
      "source": [
        "## 4. Importing Classes"
      ],
      "metadata": {
        "id": "S316TViTX-kr"
      }
    },
    {
      "cell_type": "markdown",
      "source": [
        "- Puedes importar clases específicas con 'from modulo import Clase'.\n"
      ],
      "metadata": {
        "id": "M2CBMnsjYAt_"
      }
    },
    {
      "cell_type": "markdown",
      "source": [
        "**Ejemplo:**\n",
        "\n",
        "from persona import Persona\n"
      ],
      "metadata": {
        "id": "vezz8XZhYELW"
      }
    },
    {
      "cell_type": "markdown",
      "source": [
        "**Ejercicios:**\n",
        "\n",
        "1. Guarda tu clase 'Libro' en un archivo y úsala desde otro script.\n",
        "\n",
        "2. Importa múltiples clases desde un solo módulo.\n",
        "\n",
        "3. Reorganiza tu código en paquetes (carpetas con __init__.py)."
      ],
      "metadata": {
        "id": "J42HjMtBYGov"
      }
    },
    {
      "cell_type": "code",
      "source": [],
      "metadata": {
        "id": "qAyHLysLYQKS"
      },
      "execution_count": null,
      "outputs": []
    },
    {
      "cell_type": "markdown",
      "source": [
        "## 5. The Python Standard Library\n"
      ],
      "metadata": {
        "id": "EIQGzTKYYWJN"
      }
    },
    {
      "cell_type": "markdown",
      "source": [
        "- La biblioteca estándar incluye módulos como random, datetime, os, math.\n"
      ],
      "metadata": {
        "id": "eNPMxa25YZIu"
      }
    },
    {
      "cell_type": "markdown",
      "source": [
        "**Ejemplo:**\n",
        "\n"
      ],
      "metadata": {
        "id": "2CyC8dUKYdaI"
      }
    },
    {
      "cell_type": "code",
      "source": [
        "import random\n",
        "print(random.randint(1, 10))"
      ],
      "metadata": {
        "id": "0NHr99hBYlO-"
      },
      "execution_count": null,
      "outputs": []
    },
    {
      "cell_type": "markdown",
      "source": [
        "**Ejercicios:**\n",
        "\n",
        "1. Usa datetime para imprimir la fecha de nacimiento a partir de edad.\n",
        "\n",
        "2. Usa os para listar todos los archivos de un directorio.\n",
        "\n",
        "3. Usa math para resolver la fórmula cuadrática."
      ],
      "metadata": {
        "id": "GSddpGVvYfB9"
      }
    },
    {
      "cell_type": "markdown",
      "source": [
        "---\n",
        "\n",
        "# Gracias por completar este laboratorio!\n",
        "\n",
        "---\n"
      ],
      "metadata": {
        "id": "AFdUbz_9XDVM"
      }
    }
  ]
}